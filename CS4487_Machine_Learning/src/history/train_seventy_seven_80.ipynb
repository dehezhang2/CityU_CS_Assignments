{
 "cells": [
  {
   "cell_type": "code",
   "execution_count": 1,
   "metadata": {},
   "outputs": [],
   "source": [
    "%matplotlib inline"
   ]
  },
  {
   "cell_type": "code",
   "execution_count": 2,
   "metadata": {},
   "outputs": [],
   "source": [
    "import torch\n",
    "import torchvision\n",
    "import torchvision.transforms as transforms\n",
    "import numpy as np\n",
    "import torch.optim as optim\n",
    "import gc\n",
    "\n",
    "# from sklearn import svm, decomposition\n",
    "from preprocess import remove_high_freq, whitening, from_cifar_to_np, from_submit_to_np\n",
    "from plot import imshow\n",
    "from util import trainNN, cal_accuracy, cal_class_accuracy, get_submit_result, export_to_file, print_accracy\n",
    "from models import *\n",
    "\n",
    "use_pca = False\n",
    "use_forieum = False\n",
    "export_csv = True\n",
    "csv_name = 'res_resnet.csv'\n",
    "BATCH_SIZE = 32"
   ]
  },
  {
   "cell_type": "code",
   "execution_count": 3,
   "metadata": {},
   "outputs": [
    {
     "name": "stdout",
     "output_type": "stream",
     "text": [
      "==> Preparing data..\n",
      "Files already downloaded and verified\n",
      "Files already downloaded and verified\n"
     ]
    }
   ],
   "source": [
    "print('==> Preparing data..')\n",
    "transform_train = transforms.Compose(\n",
    "    [\n",
    "#          transforms.RandomRotation(5),\n",
    "         transforms.RandomCrop(32, padding=4),\n",
    "#          transforms.RandomResizedCrop(32),\n",
    "         transforms.RandomHorizontalFlip(),\n",
    "#          transforms.ColorJitter(brightness=0.1, contrast=0.1, saturation=0.1, hue=0.05),\n",
    "         transforms.ToTensor(),\n",
    "         transforms.Normalize((0.4914, 0.4822, 0.4465), (0.2023, 0.1994, 0.2010)),\n",
    "         remove_high_freq\n",
    "    ]) if use_forieum else transforms.Compose(\n",
    "    [\n",
    "#          transforms.RandomRotation(5),\n",
    "         transforms.RandomCrop(32, padding=4),\n",
    "#          transforms.RandomResizedCrop(32),\n",
    "         transforms.RandomHorizontalFlip(),\n",
    "#          transforms.ColorJitter(brightness=0.1, contrast=0.1, saturation=0.1, hue=0.05),\n",
    "         transforms.ToTensor(),\n",
    "         transforms.Normalize((0.4914, 0.4822, 0.4465), (0.2023, 0.1994, 0.2010))\n",
    "    ]) \n",
    "\n",
    "transform_test = transforms.Compose(\n",
    "    [\n",
    "         transforms.ToTensor(),\n",
    "         transforms.Normalize((0.4914, 0.4822, 0.4465), (0.2023, 0.1994, 0.2010)),\n",
    "         remove_high_freq\n",
    "    ]) if use_forieum else transforms.Compose(\n",
    "    [\n",
    "         transforms.ToTensor(),\n",
    "         transforms.Normalize((0.4914, 0.4822, 0.4465), (0.2023, 0.1994, 0.2010)),\n",
    "    ]) \n",
    "\n",
    "\n",
    "trainset = torchvision.datasets.CIFAR10(root='./data', train=True,\n",
    "                                        download=True, transform=transform_train)\n",
    "trainloader = torch.utils.data.DataLoader(trainset, batch_size=128,\n",
    "                                          shuffle=True, num_workers=0)\n",
    "\n",
    "testset = torchvision.datasets.CIFAR10(root='./data', train=False,\n",
    "                                       download=True, transform=transform_test)\n",
    "testloader = torch.utils.data.DataLoader(testset, batch_size=100,\n",
    "                                         shuffle=False, num_workers=0)\n",
    "submitdata = np.load(\"./test/y_test.npy\").astype(np.uint8)\n",
    "\n",
    "submit_images = [ transform_test(img) for img in submitdata]\n",
    "\n",
    "submitloader = torch.utils.data.DataLoader(submit_images, batch_size=1,\n",
    "                                          shuffle=False, num_workers=2)\n",
    "\n",
    "# class MyDataset(torch.utils.data.Dataset):\n",
    "#     def __init__(self,testdata,transform):\n",
    "#         # show image\n",
    "#         self.testdata=testdata\n",
    "#         self.len = testdata.shape[0]\n",
    "#         self.transform=transform\n",
    "\n",
    "#     def __getitem__(self, index):\n",
    "#         img = self.transform(self.testdata[index])\n",
    "#         return img\n",
    "\n",
    "#     def __len__(self):\n",
    "#         return self.len\n",
    "\n",
    "# submitset = MyDataset(testdata=submitdata, transform=transform_test)\n",
    "# submitloader = torch.utils.data.DataLoader(submitset, batch_size=1, shuffle=False, num_workers=0)\n",
    "\n",
    "\n",
    "classes = ('plane', 'car', 'bird', 'cat',\n",
    "           'deer', 'dog', 'frog', 'horse', 'ship', 'truck')"
   ]
  },
  {
   "cell_type": "code",
   "execution_count": 4,
   "metadata": {},
   "outputs": [
    {
     "name": "stdout",
     "output_type": "stream",
     "text": [
      "(50000, 3072)\n",
      "(50000,)\n"
     ]
    }
   ],
   "source": [
    "trainX, trainY = from_cifar_to_np(trainloader)\n",
    "if not use_forieum:\n",
    "    trainX = np.reshape(trainX, (50000, 3072))\n",
    "print(trainX.shape)\n",
    "print(trainY.shape)"
   ]
  },
  {
   "cell_type": "code",
   "execution_count": 5,
   "metadata": {},
   "outputs": [
    {
     "name": "stdout",
     "output_type": "stream",
     "text": [
      "(10000, 3072)\n",
      "(10000,)\n"
     ]
    }
   ],
   "source": [
    "testX, testY = from_cifar_to_np(testloader)\n",
    "if not use_forieum:\n",
    "    testX = np.reshape(testX, (10000, 3072))\n",
    "print(testX.shape)\n",
    "print(testY.shape)"
   ]
  },
  {
   "cell_type": "code",
   "execution_count": 6,
   "metadata": {},
   "outputs": [
    {
     "name": "stdout",
     "output_type": "stream",
     "text": [
      "(12000, 3072)\n"
     ]
    }
   ],
   "source": [
    "submitX = from_submit_to_np(submitloader)\n",
    "if not use_forieum:\n",
    "    submitX = np.reshape(submitX, (12000, 3072))\n",
    "print(submitX.shape)"
   ]
  },
  {
   "cell_type": "code",
   "execution_count": 7,
   "metadata": {},
   "outputs": [
    {
     "name": "stdout",
     "output_type": "stream",
     "text": [
      "cuda:0\n"
     ]
    }
   ],
   "source": [
    "# Assume that we are on a CUDA machine, then this should print a CUDA device:\n",
    "device = torch.device(\"cuda:0\" if torch.cuda.is_available() else \"cpu\")\n",
    "print(device)"
   ]
  },
  {
   "cell_type": "code",
   "execution_count": 8,
   "metadata": {},
   "outputs": [
    {
     "name": "stdout",
     "output_type": "stream",
     "text": [
      "torch.Size([128, 3, 32, 32])\n"
     ]
    },
    {
     "name": "stderr",
     "output_type": "stream",
     "text": [
      "Clipping input data to the valid range for imshow with RGB data ([0..1] for floats or [0..255] for integers).\n"
     ]
    },
    {
     "name": "stdout",
     "output_type": "stream",
     "text": [
      "  car plane horse  ship  deer  frog  deer   car\n"
     ]
    },
    {
     "data": {
      "image/png": "[encoded data removed]",
      "text/plain": [
       "<Figure size 432x288 with 1 Axes>"
      ]
     },
     "metadata": {
      "needs_background": "light"
     },
     "output_type": "display_data"
    }
   ],
   "source": [
    "# get some random training images\n",
    "dataiter = iter(trainloader)\n",
    "images, labels = dataiter.next()\n",
    "\n",
    "# print(images)\n",
    "print(images.size())\n",
    "\n",
    "# show images in a batch, which contains 8 images\n",
    "imshow(torchvision.utils.make_grid(images[0:8]))\n",
    "\n",
    "# print labels\n",
    "print(' '.join('%5s' % classes[labels[j]] for j in range(8)))"
   ]
  },
  {
   "cell_type": "code",
   "execution_count": 9,
   "metadata": {},
   "outputs": [
    {
     "name": "stdout",
     "output_type": "stream",
     "text": [
      "==> Building model..\n"
     ]
    }
   ],
   "source": [
    "print('==> Building model..')\n",
    "# net = SeventySevenNet()\n",
    "# net = ResNet18()\n",
    "# net = LargeNet()\n",
    "# net = VGG('VGG19')\n",
    "net = net.to(device)\n",
    "criterion = nn.CrossEntropyLoss()"
   ]
  },
  {
   "cell_type": "code",
   "execution_count": 10,
   "metadata": {
    "scrolled": true
   },
   "outputs": [
    {
     "name": "stdout",
     "output_type": "stream",
     "text": [
      "Training starts\n",
      "[1,   100] double loss: 0.0153885\n",
      "[1,   200] double loss: 0.0128407\n",
      "[1,   300] double loss: 0.0121112\n",
      "[2,   100] double loss: 0.0106378\n",
      "[2,   200] double loss: 0.0101384\n",
      "[2,   300] double loss: 0.0094393\n",
      "[3,   100] double loss: 0.0086984\n",
      "[3,   200] double loss: 0.0084596\n",
      "[3,   300] double loss: 0.0080579\n",
      "[4,   100] double loss: 0.0076794\n",
      "[4,   200] double loss: 0.0075813\n",
      "[4,   300] double loss: 0.0072052\n",
      "Accuracy of the network on the 10000 test images: 69.860000 %\n",
      "Accuracy of the network on the train images: 69.446000 %\n",
      "Training starts\n",
      "[1,   100] double loss: 0.0070849\n",
      "[1,   200] double loss: 0.0067392\n",
      "[1,   300] double loss: 0.0067860\n",
      "[2,   100] double loss: 0.0063407\n",
      "[2,   200] double loss: 0.0064480\n",
      "[2,   300] double loss: 0.0062226\n",
      "[3,   100] double loss: 0.0060390\n",
      "[3,   200] double loss: 0.0061443\n",
      "[3,   300] double loss: 0.0061166\n",
      "[4,   100] double loss: 0.0057892\n",
      "[4,   200] double loss: 0.0057275\n",
      "[4,   300] double loss: 0.0057053\n",
      "Accuracy of the network on the 10000 test images: 74.010000 %\n",
      "Accuracy of the network on the train images: 74.702000 %\n",
      "Training starts\n",
      "[1,   100] double loss: 0.0056051\n",
      "[1,   200] double loss: 0.0056853\n",
      "[1,   300] double loss: 0.0054279\n",
      "[2,   100] double loss: 0.0053153\n",
      "[2,   200] double loss: 0.0054486\n",
      "[2,   300] double loss: 0.0053710\n",
      "[3,   100] double loss: 0.0052202\n",
      "[3,   200] double loss: 0.0052835\n",
      "[3,   300] double loss: 0.0052248\n",
      "[4,   100] double loss: 0.0051773\n",
      "[4,   200] double loss: 0.0051435\n",
      "[4,   300] double loss: 0.0051185\n",
      "Accuracy of the network on the 10000 test images: 78.090000 %\n",
      "Accuracy of the network on the train images: 78.260000 %\n"
     ]
    }
   ],
   "source": [
    "for i in range(3): \n",
    "    optimizer = optim.Adam(net.parameters(), lr=1e-3, weight_decay=0.002)\n",
    "    trainNN(net, trainloader, optimizer, criterion,  4)\n",
    "\n",
    "    print('Accuracy of the network on the 10000 test images: %f %%' % (\n",
    "        100 * cal_accuracy(net, testloader)))\n",
    "    print('Accuracy of the network on the train images: %f %%' % (\n",
    "        100 * cal_accuracy(net, trainloader)))"
   ]
  },
  {
   "cell_type": "code",
   "execution_count": 11,
   "metadata": {},
   "outputs": [
    {
     "name": "stdout",
     "output_type": "stream",
     "text": [
      "Training starts\n",
      "[1,   100] double loss: 0.0045772\n",
      "[1,   200] double loss: 0.0044492\n",
      "[1,   300] double loss: 0.0042278\n",
      "[2,   100] double loss: 0.0042295\n",
      "[2,   200] double loss: 0.0041753\n",
      "[2,   300] double loss: 0.0041085\n",
      "[3,   100] double loss: 0.0041979\n",
      "[3,   200] double loss: 0.0040697\n",
      "[3,   300] double loss: 0.0041154\n",
      "[4,   100] double loss: 0.0040087\n",
      "[4,   200] double loss: 0.0041002\n",
      "[4,   300] double loss: 0.0040538\n",
      "[5,   100] double loss: 0.0039736\n",
      "[5,   200] double loss: 0.0039914\n",
      "[5,   300] double loss: 0.0041034\n",
      "[6,   100] double loss: 0.0039402\n",
      "[6,   200] double loss: 0.0040559\n",
      "[6,   300] double loss: 0.0039283\n",
      "[7,   100] double loss: 0.0039122\n",
      "[7,   200] double loss: 0.0038773\n",
      "[7,   300] double loss: 0.0039102\n",
      "Accuracy of the network on the 10000 test images: 81.330000 %\n",
      "Accuracy of the network on the train images: 83.066000 %\n",
      "Training starts\n",
      "[1,   100] double loss: 0.0037900\n",
      "[1,   200] double loss: 0.0039418\n",
      "[1,   300] double loss: 0.0038847\n",
      "[2,   100] double loss: 0.0038378\n",
      "[2,   200] double loss: 0.0038305\n",
      "[2,   300] double loss: 0.0039169\n",
      "[3,   100] double loss: 0.0038599\n",
      "[3,   200] double loss: 0.0037837\n",
      "[3,   300] double loss: 0.0038008\n",
      "[4,   100] double loss: 0.0037814\n",
      "[4,   200] double loss: 0.0038091\n",
      "[4,   300] double loss: 0.0037148\n",
      "[5,   100] double loss: 0.0036360\n",
      "[5,   200] double loss: 0.0037628\n",
      "[5,   300] double loss: 0.0038299\n",
      "[6,   100] double loss: 0.0036130\n",
      "[6,   200] double loss: 0.0036237\n",
      "[6,   300] double loss: 0.0037566\n",
      "[7,   100] double loss: 0.0036660\n",
      "[7,   200] double loss: 0.0036797\n",
      "[7,   300] double loss: 0.0036821\n",
      "Accuracy of the network on the 10000 test images: 81.930000 %\n",
      "Accuracy of the network on the train images: 83.530000 %\n"
     ]
    }
   ],
   "source": [
    "for i in range(2): \n",
    "    optimizer = optim.Adam(net.parameters(), lr=1e-4, weight_decay=0.002)\n",
    "    trainNN(net, trainloader, optimizer, criterion,  7)\n",
    "\n",
    "    print('Accuracy of the network on the 10000 test images: %f %%' % (\n",
    "        100 * cal_accuracy(net, testloader)))\n",
    "    print('Accuracy of the network on the train images: %f %%' % (\n",
    "        100 * cal_accuracy(net, trainloader)))"
   ]
  },
  {
   "cell_type": "code",
   "execution_count": 12,
   "metadata": {},
   "outputs": [
    {
     "name": "stdout",
     "output_type": "stream",
     "text": [
      "Training starts\n",
      "[1,   100] double loss: 0.0035713\n",
      "[1,   200] double loss: 0.0035667\n",
      "[1,   300] double loss: 0.0035294\n",
      "Accuracy of the network on the 10000 test images: 82.000000 %\n",
      "Accuracy of the network on the train images: 84.238000 %\n",
      "Training starts\n",
      "[1,   100] double loss: 0.0035157\n",
      "[1,   200] double loss: 0.0035198\n",
      "[1,   300] double loss: 0.0035480\n",
      "Accuracy of the network on the 10000 test images: 82.100000 %\n",
      "Accuracy of the network on the train images: 84.194000 %\n",
      "Training starts\n",
      "[1,   100] double loss: 0.0035337\n",
      "[1,   200] double loss: 0.0035494\n",
      "[1,   300] double loss: 0.0036235\n",
      "Accuracy of the network on the 10000 test images: 82.080000 %\n",
      "Accuracy of the network on the train images: 84.304000 %\n"
     ]
    }
   ],
   "source": [
    "for i in range(3): \n",
    "    optimizer = optim.Adam(net.parameters(), lr=3e-5, weight_decay=0.002)\n",
    "    trainNN(net, trainloader, optimizer, criterion,  1)\n",
    "\n",
    "    print('Accuracy of the network on the 10000 test images: %f %%' % (\n",
    "        100 * cal_accuracy(net, testloader)))\n",
    "    print('Accuracy of the network on the train images: %f %%' % (\n",
    "        100 * cal_accuracy(net, trainloader)))"
   ]
  },
  {
   "cell_type": "code",
   "execution_count": 13,
   "metadata": {},
   "outputs": [
    {
     "name": "stdout",
     "output_type": "stream",
     "text": [
      "Training starts\n",
      "[1,   100] double loss: 0.0036301\n",
      "[1,   200] double loss: 0.0035170\n",
      "[1,   300] double loss: 0.0037130\n",
      "Accuracy of the network on the 10000 test images: 82.080000 %\n",
      "Accuracy of the network on the train images: 84.190000 %\n",
      "Training starts\n",
      "[1,   100] double loss: 0.0036802\n",
      "[1,   200] double loss: 0.0036535\n",
      "[1,   300] double loss: 0.0035507\n",
      "Accuracy of the network on the 10000 test images: 81.750000 %\n",
      "Accuracy of the network on the train images: 84.124000 %\n",
      "Training starts\n",
      "[1,   100] double loss: 0.0036104\n",
      "[1,   200] double loss: 0.0035719\n",
      "[1,   300] double loss: 0.0035757\n",
      "Accuracy of the network on the 10000 test images: 82.080000 %\n",
      "Accuracy of the network on the train images: 84.360000 %\n",
      "Training starts\n",
      "[1,   100] double loss: 0.0035671\n",
      "[1,   200] double loss: 0.0036198\n",
      "[1,   300] double loss: 0.0035131\n",
      "Accuracy of the network on the 10000 test images: 82.390000 %\n",
      "Accuracy of the network on the train images: 84.086000 %\n",
      "Training starts\n",
      "[1,   100] double loss: 0.0035606\n",
      "[1,   200] double loss: 0.0034945\n",
      "[1,   300] double loss: 0.0034933\n",
      "Accuracy of the network on the 10000 test images: 82.470000 %\n",
      "Accuracy of the network on the train images: 84.156000 %\n"
     ]
    }
   ],
   "source": [
    "for i in range(5): \n",
    "    optimizer = optim.Adam(net.parameters(), lr=1e-4, weight_decay=0.002)\n",
    "    trainNN(net, trainloader, optimizer, criterion,  1)\n",
    "\n",
    "    print('Accuracy of the network on the 10000 test images: %f %%' % (\n",
    "        100 * cal_accuracy(net, testloader)))\n",
    "    print('Accuracy of the network on the train images: %f %%' % (\n",
    "        100 * cal_accuracy(net, trainloader)))"
   ]
  },
  {
   "cell_type": "code",
   "execution_count": 14,
   "metadata": {},
   "outputs": [
    {
     "name": "stdout",
     "output_type": "stream",
     "text": [
      "Training starts\n",
      "[1,   100] double loss: 0.0034836\n",
      "[1,   200] double loss: 0.0033922\n",
      "[1,   300] double loss: 0.0034098\n",
      "Accuracy of the network on the 10000 test images: 82.740000 %\n",
      "Accuracy of the network on the train images: 84.788000 %\n",
      "Training starts\n",
      "[1,   100] double loss: 0.0034255\n",
      "[1,   200] double loss: 0.0033439\n",
      "[1,   300] double loss: 0.0034413\n",
      "Accuracy of the network on the 10000 test images: 82.680000 %\n",
      "Accuracy of the network on the train images: 84.780000 %\n",
      "Training starts\n",
      "[1,   100] double loss: 0.0033731\n",
      "[1,   200] double loss: 0.0033993\n",
      "[1,   300] double loss: 0.0034254\n",
      "Accuracy of the network on the 10000 test images: 82.690000 %\n",
      "Accuracy of the network on the train images: 84.790000 %\n",
      "Training starts\n",
      "[1,   100] double loss: 0.0033983\n",
      "[1,   200] double loss: 0.0034371\n",
      "[1,   300] double loss: 0.0033717\n",
      "Accuracy of the network on the 10000 test images: 82.720000 %\n",
      "Accuracy of the network on the train images: 84.872000 %\n"
     ]
    }
   ],
   "source": [
    "for i in range(4): \n",
    "    optimizer = optim.Adam(net.parameters(), lr=1e-5, weight_decay=0.002)\n",
    "    trainNN(net, trainloader, optimizer, criterion,  1)\n",
    "\n",
    "    print('Accuracy of the network on the 10000 test images: %f %%' % (\n",
    "        100 * cal_accuracy(net, testloader)))\n",
    "    print('Accuracy of the network on the train images: %f %%' % (\n",
    "        100 * cal_accuracy(net, trainloader)))"
   ]
  },
  {
   "cell_type": "code",
   "execution_count": 15,
   "metadata": {},
   "outputs": [
    {
     "name": "stdout",
     "output_type": "stream",
     "text": [
      "44\n"
     ]
    }
   ],
   "source": [
    "params = list(net.parameters())\n",
    "print(len(params))"
   ]
  },
  {
   "cell_type": "code",
   "execution_count": 16,
   "metadata": {},
   "outputs": [
    {
     "name": "stdout",
     "output_type": "stream",
     "text": [
      "Accuracy of plane : 93 %\n",
      "Accuracy of   car : 100 %\n",
      "Accuracy of  bird : 73 %\n",
      "Accuracy of   cat : 65 %\n",
      "Accuracy of  deer : 81 %\n",
      "Accuracy of   dog : 71 %\n",
      "Accuracy of  frog : 77 %\n",
      "Accuracy of horse : 90 %\n",
      "Accuracy of  ship : 87 %\n",
      "Accuracy of truck : 89 %\n"
     ]
    }
   ],
   "source": [
    "cal_class_accuracy(net, testloader)"
   ]
  },
  {
   "cell_type": "code",
   "execution_count": 17,
   "metadata": {},
   "outputs": [
    {
     "name": "stderr",
     "output_type": "stream",
     "text": [
      "Clipping input data to the valid range for imshow with RGB data ([0..1] for floats or [0..255] for integers).\n"
     ]
    },
    {
     "data": {
      "image/png": "[encoded data removed]",
      "text/plain": [
       "<Figure size 432x288 with 1 Axes>"
      ]
     },
     "metadata": {
      "needs_background": "light"
     },
     "output_type": "display_data"
    }
   ],
   "source": [
    "images = submit_images[2100:2105]\n",
    "imshow(torchvision.utils.make_grid(images))"
   ]
  },
  {
   "cell_type": "code",
   "execution_count": 18,
   "metadata": {},
   "outputs": [
    {
     "name": "stdout",
     "output_type": "stream",
     "text": [
      "(1, 3, 32, 32)\n"
     ]
    },
    {
     "name": "stderr",
     "output_type": "stream",
     "text": [
      "Clipping input data to the valid range for imshow with RGB data ([0..1] for floats or [0..255] for integers).\n"
     ]
    },
    {
     "data": {
      "image/png": "[encoded data removed]",
      "text/plain": [
       "<Figure size 432x288 with 1 Axes>"
      ]
     },
     "metadata": {
      "needs_background": "light"
     },
     "output_type": "display_data"
    }
   ],
   "source": [
    "dataiter = iter(submitloader)\n",
    "images = dataiter.next()\n",
    "print(np.array(images).shape)\n",
    "imshow(torchvision.utils.make_grid(images))"
   ]
  },
  {
   "cell_type": "code",
   "execution_count": 19,
   "metadata": {
    "scrolled": true
   },
   "outputs": [
    {
     "data": {
      "text/plain": [
       "2297"
      ]
     },
     "execution_count": 19,
     "metadata": {},
     "output_type": "execute_result"
    }
   ],
   "source": [
    "gc.collect()"
   ]
  },
  {
   "cell_type": "code",
   "execution_count": 20,
   "metadata": {},
   "outputs": [],
   "source": [
    "results = []\n",
    "with torch.no_grad():\n",
    "    for index, images in enumerate(submitloader):\n",
    "        inputs = images.to(device)\n",
    "        outputs = net(inputs)\n",
    "        _, predicted = torch.max(outputs.data, 1)\n",
    "        results.append(predicted.cpu().numpy())\n"
   ]
  },
  {
   "cell_type": "code",
   "execution_count": 22,
   "metadata": {},
   "outputs": [
    {
     "name": "stdout",
     "output_type": "stream",
     "text": [
      "[0]\n"
     ]
    }
   ],
   "source": [
    "import pandas as pd\n",
    "result_df = pd.DataFrame(\n",
    "    list(results),\n",
    "    columns=[\"Category\"]\n",
    "  )\n",
    "result_df.index.name = \"Index\"\n",
    "print(results[2])\n",
    "\n",
    "\n",
    "result_df.to_csv(\"results/res_reproduce.csv\")"
   ]
  }
 ],
 "metadata": {
  "kernelspec": {
   "display_name": "Python 3",
   "language": "python",
   "name": "python3"
  },
  "language_info": {
   "codemirror_mode": {
    "name": "ipython",
    "version": 3
   },
   "file_extension": ".py",
   "mimetype": "text/x-python",
   "name": "python",
   "nbconvert_exporter": "python",
   "pygments_lexer": "ipython3",
   "version": "3.7.0"
  },
  "pycharm": {
   "stem_cell": {
    "cell_type": "raw",
    "metadata": {
     "collapsed": false
    },
    "source": []
   }
  }
 },
 "nbformat": 4,
 "nbformat_minor": 2
}
