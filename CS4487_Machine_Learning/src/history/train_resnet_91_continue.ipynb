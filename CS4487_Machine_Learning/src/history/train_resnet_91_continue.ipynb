{
 "cells": [
  {
   "cell_type": "code",
   "execution_count": 1,
   "metadata": {},
   "outputs": [],
   "source": [
    "%matplotlib inline"
   ]
  },
  {
   "cell_type": "code",
   "execution_count": 10,
   "metadata": {},
   "outputs": [],
   "source": [
    "import torch\n",
    "import torchvision\n",
    "import torchvision.transforms as transforms\n",
    "import numpy as np\n",
    "import torch.optim as optim\n",
    "import matplotlib.pyplot as plt\n",
    "import time\n",
    "import gc\n",
    "import os\n",
    "\n",
    "# from sklearn import svm, decomposition\n",
    "from preprocess import remove_high_freq, whitening, from_cifar_to_np, from_submit_to_np\n",
    "from plot import imshow\n",
    "from util import trainNN, cal_accuracy, cal_class_accuracy, get_submit_result, export_to_file, print_accracy\n",
    "from models import *\n",
    "\n",
    "use_pca = False\n",
    "use_forieum = False\n",
    "resume = True\n",
    "export_csv = True\n",
    "\n",
    "csv_name = 'res_resnet_auto_lr.csv'\n",
    "checkpoint_name = 'resnet_ckpt.pth'\n",
    "accuracy_plot_name = 'resnet_acc.png'\n",
    "\n",
    "BATCH_SIZE = 1500\n",
    "LR = 1e-4\n",
    "EPOCHS = 300\n",
    "momentum = 0.9\n",
    "weight_decay = 7e-3\n",
    "\n",
    "best_accuracy = 0.0\n",
    "epoch = 0"
   ]
  },
  {
   "cell_type": "code",
   "execution_count": 3,
   "metadata": {},
   "outputs": [
    {
     "name": "stdout",
     "output_type": "stream",
     "text": [
      "==> Preparing data..\n",
      "Files already downloaded and verified\n",
      "Files already downloaded and verified\n"
     ]
    }
   ],
   "source": [
    "print('==> Preparing data..')\n",
    "transform_train = transforms.Compose(\n",
    "    [\n",
    "         transforms.RandomCrop(32, padding=4),\n",
    "         transforms.RandomHorizontalFlip(),\n",
    "         transforms.ToTensor(),\n",
    "         transforms.Normalize((0.4914, 0.4822, 0.4465), (0.2023, 0.1994, 0.2010)),\n",
    "         remove_high_freq\n",
    "    ]) if use_forieum else transforms.Compose(\n",
    "    [\n",
    "         transforms.RandomCrop(32, padding=4),\n",
    "         transforms.RandomHorizontalFlip(),\n",
    "         transforms.ToTensor(),\n",
    "         transforms.Normalize((0.4914, 0.4822, 0.4465), (0.2023, 0.1994, 0.2010))\n",
    "    ]) \n",
    "\n",
    "transform_test = transforms.Compose(\n",
    "    [\n",
    "         transforms.ToTensor(),\n",
    "         transforms.Normalize((0.4914, 0.4822, 0.4465), (0.2023, 0.1994, 0.2010)),\n",
    "         remove_high_freq\n",
    "    ]) if use_forieum else transforms.Compose(\n",
    "    [\n",
    "         transforms.ToTensor(),\n",
    "         transforms.Normalize((0.4914, 0.4822, 0.4465), (0.2023, 0.1994, 0.2010)),\n",
    "    ]) \n",
    "\n",
    "\n",
    "trainset = torchvision.datasets.CIFAR10(root='./data', train=True,\n",
    "                                        download=True, transform=transform_train)\n",
    "trainloader = torch.utils.data.DataLoader(trainset, batch_size=128,\n",
    "                                          shuffle=True, num_workers=0)\n",
    "\n",
    "testset = torchvision.datasets.CIFAR10(root='./data', train=False,\n",
    "                                       download=True, transform=transform_test)\n",
    "testloader = torch.utils.data.DataLoader(testset, batch_size=100,\n",
    "                                         shuffle=False, num_workers=0)\n",
    "submitdata = np.load(\"./test/y_test.npy\").astype(np.uint8)\n",
    "\n",
    "submit_images = [ transform_test(img) for img in submitdata]\n",
    "\n",
    "submitloader = torch.utils.data.DataLoader(submit_images, batch_size=BATCH_SIZE,\n",
    "                                          shuffle=False, num_workers=2)\n",
    "\n",
    "classes = ('plane', 'car', 'bird', 'cat',\n",
    "           'deer', 'dog', 'frog', 'horse', 'ship', 'truck')"
   ]
  },
  {
   "cell_type": "code",
   "execution_count": 4,
   "metadata": {},
   "outputs": [
    {
     "name": "stdout",
     "output_type": "stream",
     "text": [
      "Shape of training data: \n",
      "(50000, 3072)\n",
      "(50000,)\n"
     ]
    }
   ],
   "source": [
    "trainX, trainY = from_cifar_to_np(trainloader)\n",
    "if not use_forieum:\n",
    "    trainX = np.reshape(trainX, (50000, 3072))\n",
    "print(\"Shape of training data: \")\n",
    "print(trainX.shape)\n",
    "print(trainY.shape)"
   ]
  },
  {
   "cell_type": "code",
   "execution_count": 5,
   "metadata": {},
   "outputs": [
    {
     "name": "stdout",
     "output_type": "stream",
     "text": [
      "Shape of testing data: \n",
      "(10000, 3072)\n",
      "(10000,)\n"
     ]
    }
   ],
   "source": [
    "testX, testY = from_cifar_to_np(testloader)\n",
    "if not use_forieum:\n",
    "    testX = np.reshape(testX, (10000, 3072))\n",
    "\n",
    "print(\"Shape of testing data: \")\n",
    "print(testX.shape)\n",
    "print(testY.shape)"
   ]
  },
  {
   "cell_type": "code",
   "execution_count": 6,
   "metadata": {},
   "outputs": [
    {
     "name": "stdout",
     "output_type": "stream",
     "text": [
      "Shape of submitting data: \n",
      "(12000, 3072)\n"
     ]
    }
   ],
   "source": [
    "submitX = from_submit_to_np(submitloader)\n",
    "if not use_forieum:\n",
    "    submitX = np.reshape(submitX, (12000, 3072))\n",
    "\n",
    "print(\"Shape of submitting data: \")    \n",
    "print(submitX.shape)"
   ]
  },
  {
   "cell_type": "code",
   "execution_count": 7,
   "metadata": {},
   "outputs": [
    {
     "name": "stdout",
     "output_type": "stream",
     "text": [
      "cuda:0\n"
     ]
    }
   ],
   "source": [
    "# Assume that we are on a CUDA machine, then this should print a CUDA device:\n",
    "device = torch.device(\"cuda:0\" if torch.cuda.is_available() else \"cpu\")\n",
    "print(device)"
   ]
  },
  {
   "cell_type": "code",
   "execution_count": 8,
   "metadata": {},
   "outputs": [
    {
     "name": "stdout",
     "output_type": "stream",
     "text": [
      "torch.Size([128, 3, 32, 32])\n"
     ]
    },
    {
     "name": "stderr",
     "output_type": "stream",
     "text": [
      "Clipping input data to the valid range for imshow with RGB data ([0..1] for floats or [0..255] for integers).\n"
     ]
    },
    {
     "name": "stdout",
     "output_type": "stream",
     "text": [
      "  cat  frog  ship plane   dog plane  deer plane\n"
     ]
    },
    {
     "data": {
      "image/png": "[encoded data removed]",
      "text/plain": [
       "<Figure size 432x288 with 1 Axes>"
      ]
     },
     "metadata": {
      "needs_background": "light"
     },
     "output_type": "display_data"
    }
   ],
   "source": [
    "# get some random training images\n",
    "dataiter = iter(trainloader)\n",
    "images, labels = dataiter.next()\n",
    " \n",
    "# print(images)\n",
    "print(images.size())\n",
    "\n",
    "# show images in a batch, which contains 8 images\n",
    "imshow(torchvision.utils.make_grid(images[0:8]))\n",
    "\n",
    "# print labels\n",
    "print(' '.join('%5s' % classes[labels[j]] for j in range(8)))"
   ]
  },
  {
   "cell_type": "code",
   "execution_count": 11,
   "metadata": {},
   "outputs": [
    {
     "name": "stdout",
     "output_type": "stream",
     "text": [
      "==> Building model..\n",
      "==> Resuming from checkpoint..\n",
      "0.9314\n",
      "260\n"
     ]
    }
   ],
   "source": [
    "print('==> Building model..')\n",
    "# net = SeventySevenNet()\n",
    "net = ResNet18()\n",
    "# net = LargeNet()\n",
    "# net = VGG('VGG19')\n",
    "# net = WeakerNet21()\n",
    "# net = PreActResNet18()\n",
    "net = net.to(device)\n",
    "criterion = nn.CrossEntropyLoss()\n",
    "\n",
    "\n",
    "if resume:\n",
    "    print('==> Resuming from checkpoint..')\n",
    "    assert os.path.isdir('checkpoint'), 'Error: no checkpoint directory found!'\n",
    "    checkpoint = torch.load('./checkpoint/' + checkpoint_name)\n",
    "    net.load_state_dict(checkpoint['net'])\n",
    "    best_accuracy = checkpoint['acc']\n",
    "    epoch = checkpoint['epoch']\n",
    "    print(best_accuracy)\n",
    "    print(epoch)"
   ]
  },
  {
   "cell_type": "code",
   "execution_count": 10,
   "metadata": {},
   "outputs": [],
   "source": [
    "# def adjust_learning_rate(optimizer, epoch):\n",
    "#     \"\"\"Sets the learning rate to the initial LR divided by 5 at 50th, 100th and 140th epochs\"\"\"\n",
    "#     lr_tmp = LR * ((0.2 ** int(epoch >= 50)) * (0.2 ** int(epoch >= 100))* (0.2 ** int(epoch >= 140)))\n",
    "\n",
    "#     for param_group in optimizer.param_groups:\n",
    "#         param_group[\"lr\"] = lr_tmp\n"
   ]
  },
  {
   "cell_type": "code",
   "execution_count": null,
   "metadata": {
    "scrolled": true
   },
   "outputs": [
    {
     "name": "stdout",
     "output_type": "stream",
     "text": [
      "Training starts\n",
      "[1,   100] double loss: 0.0000873\n",
      "[1,   200] double loss: 0.0000963\n",
      "[1,   300] double loss: 0.0000937\n",
      "Saving...\n",
      "EPOCH: 260/300 \t Time: 166 sec \t Train Accuracy: 99.96 % \tTest Accuracy: 93.2 % \tBest Accuracy: 93.2 %\n",
      "Training starts\n",
      "[1,   100] double loss: 0.0000932\n",
      "[1,   200] double loss: 0.0000948\n",
      "[1,   300] double loss: 0.0000983\n",
      "EPOCH: 261/300 \t Time: 162 sec \t Train Accuracy: 99.956 % \tTest Accuracy: 93.15 % \tBest Accuracy: 93.2 %\n",
      "Training starts\n",
      "[1,   100] double loss: 0.0000972\n",
      "[1,   200] double loss: 0.0000979\n",
      "[1,   300] double loss: 0.0001050\n",
      "EPOCH: 262/300 \t Time: 161 sec \t Train Accuracy: 99.966 % \tTest Accuracy: 93.08 % \tBest Accuracy: 93.2 %\n",
      "Training starts\n",
      "[1,   100] double loss: 0.0001094\n",
      "[1,   200] double loss: 0.0001065\n",
      "[1,   300] double loss: 0.0001074\n",
      "EPOCH: 263/300 \t Time: 161 sec \t Train Accuracy: 99.972 % \tTest Accuracy: 93.08 % \tBest Accuracy: 93.2 %\n",
      "Training starts\n",
      "[1,   100] double loss: 0.0001096\n",
      "[1,   200] double loss: 0.0001156\n",
      "[1,   300] double loss: 0.0001164\n",
      "EPOCH: 264/300 \t Time: 166 sec \t Train Accuracy: 99.964 % \tTest Accuracy: 93.2 % \tBest Accuracy: 93.2 %\n",
      "Training starts\n",
      "[1,   100] double loss: 0.0001137\n",
      "[1,   200] double loss: 0.0001182\n",
      "[1,   300] double loss: 0.0001195\n"
     ]
    }
   ],
   "source": [
    "optimizer = optim.SGD(net.parameters(), lr=LR, momentum=momentum, weight_decay=weight_decay)\n",
    "train_acc_plt = []\n",
    "test_acc_plt = []\n",
    "\n",
    "for i in range(epoch, EPOCHS): \n",
    "    time_start = time.time()\n",
    "#     adjust_learning_rate(optimizer, i+1)\n",
    "    \n",
    "    trainNN(net, trainloader, optimizer, criterion,  1)\n",
    "    \n",
    "    train_accuracy = cal_accuracy(net, trainloader)\n",
    "    test_accuracy = cal_accuracy(net, testloader)\n",
    "    train_acc_plt.append(train_accuracy)\n",
    "    test_acc_plt.append(test_accuracy)\n",
    "    \n",
    "    time_end = (time.time() - time_start)\n",
    "    \n",
    "    if test_accuracy > best_accuracy: \n",
    "        print('Saving...')\n",
    "        state = {\n",
    "            'net': net.state_dict(),\n",
    "            'acc': test_accuracy,\n",
    "            'epoch': i+1,\n",
    "            'train_his': train_acc_plt,\n",
    "            'test_his': test_acc_plt\n",
    "        }\n",
    "        if not os.path.isdir('checkpoint'):\n",
    "            os.mkdir('checkpoint')\n",
    "        torch.save(state, './checkpoint/'+checkpoint_name)\n",
    "        best_accuracy = test_accuracy\n",
    "        \n",
    "    print(f'EPOCH: {i}/{EPOCHS} \\t',\n",
    "          f'Time: {round(time_end)} sec \\t', \n",
    "          \"Train Accuracy:\", round(100 * train_accuracy,6), '% \\t'\n",
    "          \"Test Accuracy:\", round(100 * test_accuracy,6), '% \\t'\n",
    "          \"Best Accuracy:\", round(100 * best_accuracy,6), '%'\n",
    "         )\n",
    "    "
   ]
  },
  {
   "cell_type": "code",
   "execution_count": 22,
   "metadata": {},
   "outputs": [
    {
     "name": "stdout",
     "output_type": "stream",
     "text": [
      "0.0008000000000000003\n",
      "0.005\n",
      "Training starts\n",
      "[1,   100] double loss: 0.0000153\n",
      "[1,   200] double loss: 0.0000151\n",
      "[1,   300] double loss: 0.0000161\n",
      "EPOCH: 157/170 \t Time: 158 sec \t Train Accuracy: 99.986 % \tTest Accuracy: 92.08 % \tBest Accuracy: 92.17 %\n",
      "Training starts\n",
      "[1,   100] double loss: 0.0000195\n",
      "[1,   200] double loss: 0.0000210\n",
      "[1,   300] double loss: 0.0000203\n",
      "EPOCH: 158/170 \t Time: 159 sec \t Train Accuracy: 99.998 % \tTest Accuracy: 92.05 % \tBest Accuracy: 92.17 %\n",
      "Training starts\n",
      "[1,   100] double loss: 0.0000202\n",
      "[1,   200] double loss: 0.0000212\n",
      "[1,   300] double loss: 0.0000282\n",
      "EPOCH: 159/170 \t Time: 160 sec \t Train Accuracy: 99.996 % \tTest Accuracy: 92.0 % \tBest Accuracy: 92.17 %\n",
      "Training starts\n",
      "[1,   100] double loss: 0.0000241\n",
      "[1,   200] double loss: 0.0000271\n",
      "[1,   300] double loss: 0.0000273\n",
      "EPOCH: 160/170 \t Time: 162 sec \t Train Accuracy: 99.994 % \tTest Accuracy: 91.98 % \tBest Accuracy: 92.17 %\n",
      "Training starts\n",
      "[1,   100] double loss: 0.0000266\n",
      "[1,   200] double loss: 0.0000317\n",
      "[1,   300] double loss: 0.0000296\n",
      "EPOCH: 161/170 \t Time: 163 sec \t Train Accuracy: 99.988 % \tTest Accuracy: 92.03 % \tBest Accuracy: 92.17 %\n",
      "Training starts\n",
      "[1,   100] double loss: 0.0000366\n",
      "[1,   200] double loss: 0.0000367\n",
      "[1,   300] double loss: 0.0000389\n",
      "EPOCH: 162/170 \t Time: 159 sec \t Train Accuracy: 99.994 % \tTest Accuracy: 91.96 % \tBest Accuracy: 92.17 %\n",
      "Training starts\n",
      "[1,   100] double loss: 0.0000373\n",
      "[1,   200] double loss: 0.0000424\n",
      "[1,   300] double loss: 0.0000408\n",
      "EPOCH: 163/170 \t Time: 159 sec \t Train Accuracy: 99.99 % \tTest Accuracy: 92.14 % \tBest Accuracy: 92.17 %\n",
      "Training starts\n",
      "[1,   100] double loss: 0.0000472\n",
      "[1,   200] double loss: 0.0000466\n",
      "[1,   300] double loss: 0.0000487\n",
      "EPOCH: 164/170 \t Time: 161 sec \t Train Accuracy: 99.99 % \tTest Accuracy: 92.09 % \tBest Accuracy: 92.17 %\n",
      "Training starts\n",
      "[1,   100] double loss: 0.0000497\n",
      "[1,   200] double loss: 0.0000481\n",
      "[1,   300] double loss: 0.0000533\n",
      "EPOCH: 165/170 \t Time: 162 sec \t Train Accuracy: 99.99 % \tTest Accuracy: 92.1 % \tBest Accuracy: 92.17 %\n",
      "Training starts\n",
      "[1,   100] double loss: 0.0000531\n",
      "[1,   200] double loss: 0.0000554\n",
      "[1,   300] double loss: 0.0000602\n",
      "EPOCH: 166/170 \t Time: 159 sec \t Train Accuracy: 99.982 % \tTest Accuracy: 92.14 % \tBest Accuracy: 92.17 %\n",
      "Training starts\n",
      "[1,   100] double loss: 0.0000655\n",
      "[1,   200] double loss: 0.0000595\n",
      "[1,   300] double loss: 0.0000670\n",
      "Saving...\n",
      "EPOCH: 167/170 \t Time: 159 sec \t Train Accuracy: 99.996 % \tTest Accuracy: 92.19 % \tBest Accuracy: 92.19 %\n",
      "Training starts\n",
      "[1,   100] double loss: 0.0000649\n",
      "[1,   200] double loss: 0.0000715\n",
      "[1,   300] double loss: 0.0000728\n",
      "Saving...\n",
      "EPOCH: 168/170 \t Time: 161 sec \t Train Accuracy: 99.988 % \tTest Accuracy: 92.26 % \tBest Accuracy: 92.26 %\n",
      "Training starts\n",
      "[1,   100] double loss: 0.0000718\n",
      "[1,   200] double loss: 0.0000720\n",
      "[1,   300] double loss: 0.0000737\n",
      "EPOCH: 169/170 \t Time: 161 sec \t Train Accuracy: 99.992 % \tTest Accuracy: 92.1 % \tBest Accuracy: 92.26 %\n",
      "Training starts\n",
      "[1,   100] double loss: 0.0000816\n",
      "[1,   200] double loss: 0.0000788\n",
      "[1,   300] double loss: 0.0000795\n",
      "EPOCH: 170/170 \t Time: 161 sec \t Train Accuracy: 99.986 % \tTest Accuracy: 92.17 % \tBest Accuracy: 92.26 %\n",
      "Training starts\n",
      "[1,   100] double loss: 0.0000912\n",
      "[1,   200] double loss: 0.0000833\n",
      "[1,   300] double loss: 0.0000863\n",
      "EPOCH: 171/170 \t Time: 159 sec \t Train Accuracy: 99.996 % \tTest Accuracy: 92.12 % \tBest Accuracy: 92.26 %\n",
      "Training starts\n",
      "[1,   100] double loss: 0.0000884\n",
      "[1,   200] double loss: 0.0000949\n",
      "[1,   300] double loss: 0.0000879\n",
      "EPOCH: 172/170 \t Time: 158 sec \t Train Accuracy: 99.992 % \tTest Accuracy: 92.22 % \tBest Accuracy: 92.26 %\n",
      "Training starts\n",
      "[1,   100] double loss: 0.0000917\n",
      "[1,   200] double loss: 0.0000926\n",
      "[1,   300] double loss: 0.0000935\n",
      "EPOCH: 173/170 \t Time: 158 sec \t Train Accuracy: 99.988 % \tTest Accuracy: 92.22 % \tBest Accuracy: 92.26 %\n",
      "Training starts\n",
      "[1,   100] double loss: 0.0000922\n",
      "[1,   200] double loss: 0.0000951\n",
      "[1,   300] double loss: 0.0000966\n",
      "EPOCH: 174/170 \t Time: 159 sec \t Train Accuracy: 99.99 % \tTest Accuracy: 92.15 % \tBest Accuracy: 92.26 %\n",
      "Training starts\n",
      "[1,   100] double loss: 0.0000935\n",
      "[1,   200] double loss: 0.0001010\n",
      "[1,   300] double loss: 0.0001033\n",
      "EPOCH: 175/170 \t Time: 159 sec \t Train Accuracy: 99.986 % \tTest Accuracy: 92.14 % \tBest Accuracy: 92.26 %\n",
      "Training starts\n",
      "[1,   100] double loss: 0.0000980\n",
      "[1,   200] double loss: 0.0001024\n",
      "[1,   300] double loss: 0.0001028\n",
      "EPOCH: 176/170 \t Time: 158 sec \t Train Accuracy: 99.992 % \tTest Accuracy: 92.09 % \tBest Accuracy: 92.26 %\n",
      "Training starts\n",
      "[1,   100] double loss: 0.0001065\n",
      "[1,   200] double loss: 0.0001109\n",
      "[1,   300] double loss: 0.0001075\n",
      "EPOCH: 177/170 \t Time: 158 sec \t Train Accuracy: 99.978 % \tTest Accuracy: 92.0 % \tBest Accuracy: 92.26 %\n",
      "Training starts\n",
      "[1,   100] double loss: 0.0001037\n",
      "[1,   200] double loss: 0.0000998\n",
      "[1,   300] double loss: 0.0001046\n",
      "EPOCH: 178/170 \t Time: 158 sec \t Train Accuracy: 99.982 % \tTest Accuracy: 92.0 % \tBest Accuracy: 92.26 %\n",
      "Training starts\n",
      "[1,   100] double loss: 0.0001074\n",
      "[1,   200] double loss: 0.0001049\n",
      "[1,   300] double loss: 0.0001034\n",
      "EPOCH: 179/170 \t Time: 158 sec \t Train Accuracy: 99.992 % \tTest Accuracy: 92.08 % \tBest Accuracy: 92.26 %\n"
     ]
    }
   ],
   "source": [
    "for param_group in optimizer.param_groups:\n",
    "    print(param_group[\"lr\"])\n",
    "    param_group[\"weight_decay\"] = 5e-3\n",
    "    print(param_group[\"weight_decay\"])\n",
    "\n",
    "for i in range(epoch, EPOCHS + 10): \n",
    "    time_start = time.time()\n",
    "    adjust_learning_rate(optimizer, i+1)\n",
    "    \n",
    "    trainNN(net, trainloader, optimizer, criterion,  1)\n",
    "    \n",
    "    train_accuracy = cal_accuracy(net, trainloader)\n",
    "    test_accuracy = cal_accuracy(net, testloader)\n",
    "    train_acc_plt.append(train_accuracy)\n",
    "    test_acc_plt.append(test_accuracy)\n",
    "    \n",
    "    time_end = (time.time() - time_start)\n",
    "    \n",
    "    if test_accuracy > best_accuracy: \n",
    "        print('Saving...')\n",
    "        state = {\n",
    "            'net': net.state_dict(),\n",
    "            'acc': test_accuracy,\n",
    "            'epoch': i+1,\n",
    "            'train_his': train_acc_plt,\n",
    "            'test_his': test_acc_plt\n",
    "        }\n",
    "        if not os.path.isdir('checkpoint'):\n",
    "            os.mkdir('checkpoint')\n",
    "        torch.save(state, './checkpoint/'+checkpoint_name)\n",
    "        best_accuracy = test_accuracy\n",
    "        \n",
    "    print(f'EPOCH: {i}/{EPOCHS} \\t',\n",
    "          f'Time: {round(time_end)} sec \\t', \n",
    "          \"Train Accuracy:\", round(100 * train_accuracy,6), '% \\t'\n",
    "          \"Test Accuracy:\", round(100 * test_accuracy,6), '% \\t'\n",
    "          \"Best Accuracy:\", round(100 * best_accuracy,6), '%'\n",
    "         )"
   ]
  },
  {
   "cell_type": "code",
   "execution_count": 12,
   "metadata": {},
   "outputs": [
    {
     "name": "stdout",
     "output_type": "stream",
     "text": [
      "54\n"
     ]
    }
   ],
   "source": [
    "params = list(net.parameters())\n",
    "print(len(params))"
   ]
  },
  {
   "cell_type": "code",
   "execution_count": 13,
   "metadata": {},
   "outputs": [
    {
     "data": {
      "image/png": "[encoded data removed]",
      "text/plain": [
       "<Figure size 432x288 with 1 Axes>"
      ]
     },
     "metadata": {
      "needs_background": "light"
     },
     "output_type": "display_data"
    }
   ],
   "source": [
    "plt.plot(train_acc_plt, label='Train Accuracy')\n",
    "plt.plot(test_acc_plt, label='Test Accuracy')\n",
    "plt.ylabel('accuracy')\n",
    "plt.xlabel('epoch')\n",
    "plt.axis([0, EPOCHS, 0, 1])\n",
    "plt.legend()\n",
    "plt.savefig('./plots/'+accuracy_plot_name)\n",
    "plt.show()"
   ]
  },
  {
   "cell_type": "code",
   "execution_count": 14,
   "metadata": {},
   "outputs": [
    {
     "name": "stdout",
     "output_type": "stream",
     "text": [
      "Accuracy of plane : 95 %\n",
      "Accuracy of   car : 100 %\n",
      "Accuracy of  bird : 86 %\n",
      "Accuracy of   cat : 79 %\n",
      "Accuracy of  deer : 89 %\n",
      "Accuracy of   dog : 87 %\n",
      "Accuracy of  frog : 90 %\n",
      "Accuracy of horse : 96 %\n",
      "Accuracy of  ship : 97 %\n",
      "Accuracy of truck : 93 %\n"
     ]
    }
   ],
   "source": [
    "cal_class_accuracy(net, testloader)"
   ]
  },
  {
   "cell_type": "code",
   "execution_count": 15,
   "metadata": {},
   "outputs": [
    {
     "name": "stderr",
     "output_type": "stream",
     "text": [
      "Clipping input data to the valid range for imshow with RGB data ([0..1] for floats or [0..255] for integers).\n"
     ]
    },
    {
     "data": {
      "image/png": "[encoded data removed]",
      "text/plain": [
       "<Figure size 432x288 with 1 Axes>"
      ]
     },
     "metadata": {
      "needs_background": "light"
     },
     "output_type": "display_data"
    }
   ],
   "source": [
    "images = submit_images[2100:2105]\n",
    "imshow(torchvision.utils.make_grid(images))"
   ]
  },
  {
   "cell_type": "code",
   "execution_count": 16,
   "metadata": {},
   "outputs": [
    {
     "name": "stdout",
     "output_type": "stream",
     "text": [
      "(1500, 3, 32, 32)\n"
     ]
    },
    {
     "name": "stderr",
     "output_type": "stream",
     "text": [
      "Clipping input data to the valid range for imshow with RGB data ([0..1] for floats or [0..255] for integers).\n"
     ]
    },
    {
     "data": {
      "image/png": "[encoded data removed]",
      "text/plain": [
       "<Figure size 432x288 with 1 Axes>"
      ]
     },
     "metadata": {
      "needs_background": "light"
     },
     "output_type": "display_data"
    }
   ],
   "source": [
    "dataiter = iter(submitloader)\n",
    "images = dataiter.next()\n",
    "print(np.array(images).shape)\n",
    "imshow(torchvision.utils.make_grid(images))"
   ]
  },
  {
   "cell_type": "code",
   "execution_count": 17,
   "metadata": {
    "scrolled": true
   },
   "outputs": [
    {
     "data": {
      "text/plain": [
       "1990"
      ]
     },
     "execution_count": 17,
     "metadata": {},
     "output_type": "execute_result"
    }
   ],
   "source": [
    "gc.collect()"
   ]
  },
  {
   "cell_type": "code",
   "execution_count": 18,
   "metadata": {},
   "outputs": [],
   "source": [
    "# res_labels = get_submit_result(net, submitloader)\n",
    "res_per = []\n",
    "with torch.no_grad():\n",
    "    for i, data in enumerate(submitloader, 0):\n",
    "        inputs = data.to(device)\n",
    "        # forward + backward + optimize\n",
    "        outputs = net(inputs)\n",
    "        for o in outputs:\n",
    "            res_per.append(o)\n",
    "res_labels = [int(torch.max(t,0)[1]) for t in res_per]\n"
   ]
  },
  {
   "cell_type": "code",
   "execution_count": 19,
   "metadata": {},
   "outputs": [
    {
     "name": "stderr",
     "output_type": "stream",
     "text": [
      "Clipping input data to the valid range for imshow with RGB data ([0..1] for floats or [0..255] for integers).\n"
     ]
    },
    {
     "name": "stdout",
     "output_type": "stream",
     "text": [
      "plane plane truck plane truck plane  ship  ship  ship plane plane plane plane plane  ship plane plane  deer plane plane  ship plane plane plane plane plane plane plane plane truck\n"
     ]
    },
    {
     "data": {
      "image/png": "[encoded data removed]",
      "text/plain": [
       "<Figure size 432x288 with 1 Axes>"
      ]
     },
     "metadata": {
      "needs_background": "light"
     },
     "output_type": "display_data"
    }
   ],
   "source": [
    "images = submit_images[0:30]\n",
    "imshow(torchvision.utils.make_grid(images))\n",
    "print(' '.join('%5s' % classes[res_labels[j]] for j in range(0, 30)))"
   ]
  },
  {
   "cell_type": "code",
   "execution_count": 20,
   "metadata": {},
   "outputs": [],
   "source": [
    "if export_csv:\n",
    "    export_to_file(csv_name, res_labels)"
   ]
  }
 ],
 "metadata": {
  "kernelspec": {
   "display_name": "Python 3",
   "language": "python",
   "name": "python3"
  },
  "language_info": {
   "codemirror_mode": {
    "name": "ipython",
    "version": 3
   },
   "file_extension": ".py",
   "mimetype": "text/x-python",
   "name": "python",
   "nbconvert_exporter": "python",
   "pygments_lexer": "ipython3",
   "version": "3.7.0"
  },
  "pycharm": {
   "stem_cell": {
    "cell_type": "raw",
    "metadata": {
     "collapsed": false
    },
    "source": []
   }
  }
 },
 "nbformat": 4,
 "nbformat_minor": 2
}
