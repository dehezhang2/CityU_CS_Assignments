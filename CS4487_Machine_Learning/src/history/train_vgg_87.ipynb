{
 "cells": [
  {
   "cell_type": "code",
   "execution_count": 1,
   "metadata": {},
   "outputs": [],
   "source": [
    "%matplotlib inline"
   ]
  },
  {
   "cell_type": "code",
   "execution_count": 69,
   "metadata": {},
   "outputs": [],
   "source": [
    "import torch\n",
    "import torchvision\n",
    "import torchvision.transforms as transforms\n",
    "import numpy as np\n",
    "import torch.optim as optim\n",
    "import gc\n",
    "\n",
    "# from sklearn import svm, decomposition\n",
    "from preprocess import remove_high_freq, whitening, from_cifar_to_np, from_submit_to_np\n",
    "from plot import imshow\n",
    "from util import trainNN, cal_accuracy, cal_class_accuracy, get_submit_result, export_to_file, print_accracy\n",
    "from models import *\n",
    "\n",
    "use_pca = False\n",
    "use_forieum = False\n",
    "export_csv = True\n",
    "csv_name = 'res_resnet_big_batch.csv'\n",
    "BATCH_SIZE = 32"
   ]
  },
  {
   "cell_type": "code",
   "execution_count": 70,
   "metadata": {},
   "outputs": [
    {
     "name": "stdout",
     "output_type": "stream",
     "text": [
      "==> Preparing data..\n",
      "Files already downloaded and verified\n",
      "Files already downloaded and verified\n"
     ]
    }
   ],
   "source": [
    "print('==> Preparing data..')\n",
    "transform_train = transforms.Compose(\n",
    "    [\n",
    "#          transforms.RandomRotation(5),\n",
    "         transforms.RandomCrop(32, padding=4),\n",
    "#          transforms.RandomResizedCrop(32),\n",
    "         transforms.RandomHorizontalFlip(),\n",
    "#          transforms.ColorJitter(brightness=0.1, contrast=0.1, saturation=0.1, hue=0.05),\n",
    "         transforms.ToTensor(),\n",
    "         transforms.Normalize((0.4914, 0.4822, 0.4465), (0.2023, 0.1994, 0.2010)),\n",
    "         remove_high_freq\n",
    "    ]) if use_forieum else transforms.Compose(\n",
    "    [\n",
    "#          transforms.RandomRotation(5),\n",
    "         transforms.RandomCrop(32, padding=4),\n",
    "#          transforms.RandomResizedCrop(32),\n",
    "         transforms.RandomHorizontalFlip(),\n",
    "#          transforms.ColorJitter(brightness=0.1, contrast=0.1, saturation=0.1, hue=0.05),\n",
    "         transforms.ToTensor(),\n",
    "         transforms.Normalize((0.4914, 0.4822, 0.4465), (0.2023, 0.1994, 0.2010))\n",
    "    ]) \n",
    "\n",
    "transform_test = transforms.Compose(\n",
    "    [\n",
    "         transforms.ToTensor(),\n",
    "         transforms.Normalize((0.4914, 0.4822, 0.4465), (0.2023, 0.1994, 0.2010)),\n",
    "         remove_high_freq\n",
    "    ]) if use_forieum else transforms.Compose(\n",
    "    [\n",
    "         transforms.ToTensor(),\n",
    "         transforms.Normalize((0.4914, 0.4822, 0.4465), (0.2023, 0.1994, 0.2010)),\n",
    "    ]) \n",
    "\n",
    "\n",
    "trainset = torchvision.datasets.CIFAR10(root='./data', train=True,\n",
    "                                        download=True, transform=transform_train)\n",
    "trainloader = torch.utils.data.DataLoader(trainset, batch_size=128,\n",
    "                                          shuffle=True, num_workers=0)\n",
    "\n",
    "testset = torchvision.datasets.CIFAR10(root='./data', train=False,\n",
    "                                       download=True, transform=transform_test)\n",
    "testloader = torch.utils.data.DataLoader(testset, batch_size=100,\n",
    "                                         shuffle=False, num_workers=0)\n",
    "submitdata = np.load(\"./test/y_test.npy\").astype(np.uint8)\n",
    "\n",
    "submit_images = [ transform_test(img) for img in submitdata]\n",
    "\n",
    "submitloader = torch.utils.data.DataLoader(submit_images, batch_size=3000,\n",
    "                                          shuffle=False, num_workers=2)\n",
    "\n",
    "# class MyDataset(torch.utils.data.Dataset):\n",
    "#     def __init__(self,testdata,transform):\n",
    "#         # show image\n",
    "#         self.testdata=testdata\n",
    "#         self.len = testdata.shape[0]\n",
    "#         self.transform=transform\n",
    "\n",
    "#     def __getitem__(self, index):\n",
    "#         img = self.transform(self.testdata[index])\n",
    "#         return img\n",
    "\n",
    "#     def __len__(self):\n",
    "#         return self.len\n",
    "\n",
    "# submitset = MyDataset(testdata=submitdata, transform=transform_test)\n",
    "# submitloader = torch.utils.data.DataLoader(submitset, batch_size=1, shuffle=False, num_workers=0)\n",
    "\n",
    "\n",
    "classes = ('plane', 'car', 'bird', 'cat',\n",
    "           'deer', 'dog', 'frog', 'horse', 'ship', 'truck')"
   ]
  },
  {
   "cell_type": "code",
   "execution_count": 4,
   "metadata": {},
   "outputs": [
    {
     "name": "stdout",
     "output_type": "stream",
     "text": [
      "(50000, 3072)\n",
      "(50000,)\n"
     ]
    }
   ],
   "source": [
    "trainX, trainY = from_cifar_to_np(trainloader)\n",
    "if not use_forieum:\n",
    "    trainX = np.reshape(trainX, (50000, 3072))\n",
    "print(trainX.shape)\n",
    "print(trainY.shape)"
   ]
  },
  {
   "cell_type": "code",
   "execution_count": 5,
   "metadata": {},
   "outputs": [
    {
     "name": "stdout",
     "output_type": "stream",
     "text": [
      "(10000, 3072)\n",
      "(10000,)\n"
     ]
    }
   ],
   "source": [
    "testX, testY = from_cifar_to_np(testloader)\n",
    "if not use_forieum:\n",
    "    testX = np.reshape(testX, (10000, 3072))\n",
    "print(testX.shape)\n",
    "print(testY.shape)"
   ]
  },
  {
   "cell_type": "code",
   "execution_count": 6,
   "metadata": {},
   "outputs": [
    {
     "name": "stdout",
     "output_type": "stream",
     "text": [
      "(12000, 3072)\n"
     ]
    }
   ],
   "source": [
    "submitX = from_submit_to_np(submitloader)\n",
    "if not use_forieum:\n",
    "    submitX = np.reshape(submitX, (12000, 3072))\n",
    "print(submitX.shape)"
   ]
  },
  {
   "cell_type": "code",
   "execution_count": 7,
   "metadata": {},
   "outputs": [
    {
     "name": "stdout",
     "output_type": "stream",
     "text": [
      "cuda:0\n"
     ]
    }
   ],
   "source": [
    "# Assume that we are on a CUDA machine, then this should print a CUDA device:\n",
    "device = torch.device(\"cuda:0\" if torch.cuda.is_available() else \"cpu\")\n",
    "print(device)"
   ]
  },
  {
   "cell_type": "code",
   "execution_count": 8,
   "metadata": {},
   "outputs": [
    {
     "name": "stdout",
     "output_type": "stream",
     "text": [
      "torch.Size([128, 3, 32, 32])\n"
     ]
    },
    {
     "name": "stderr",
     "output_type": "stream",
     "text": [
      "Clipping input data to the valid range for imshow with RGB data ([0..1] for floats or [0..255] for integers).\n"
     ]
    },
    {
     "name": "stdout",
     "output_type": "stream",
     "text": [
      "horse   dog   car   cat truck   dog  ship  bird\n"
     ]
    },
    {
     "data": {
      "image/png": "[encoded data removed]",
      "text/plain": [
       "<Figure size 432x288 with 1 Axes>"
      ]
     },
     "metadata": {
      "needs_background": "light"
     },
     "output_type": "display_data"
    }
   ],
   "source": [
    "# get some random training images\n",
    "dataiter = iter(trainloader)\n",
    "images, labels = dataiter.next()\n",
    "\n",
    "# print(images)\n",
    "print(images.size())\n",
    "\n",
    "# show images in a batch, which contains 8 images\n",
    "imshow(torchvision.utils.make_grid(images[0:8]))\n",
    "\n",
    "# print labels\n",
    "print(' '.join('%5s' % classes[labels[j]] for j in range(8)))"
   ]
  },
  {
   "cell_type": "code",
   "execution_count": 9,
   "metadata": {},
   "outputs": [
    {
     "name": "stdout",
     "output_type": "stream",
     "text": [
      "==> Building model..\n"
     ]
    }
   ],
   "source": [
    "print('==> Building model..')\n",
    "# net = SeventySevenNet()\n",
    "# net = ResNet18()\n",
    "# net = LargeNet()\n",
    "net = VGG('VGG19')\n",
    "# net = WeakerNet21()\n",
    "net = net.to(device)\n",
    "criterion = nn.CrossEntropyLoss()"
   ]
  },
  {
   "cell_type": "code",
   "execution_count": 10,
   "metadata": {
    "scrolled": true
   },
   "outputs": [
    {
     "name": "stdout",
     "output_type": "stream",
     "text": [
      "Training starts\n",
      "[1,   100] double loss: 0.0236375\n",
      "[1,   200] double loss: 0.0182681\n",
      "[1,   300] double loss: 0.0180407\n",
      "Accuracy of the network on the 10000 test images: 12.450000 %\n",
      "Accuracy of the network on the train images: 12.528000 %\n",
      "Training starts\n",
      "[1,   100] double loss: 0.0175818\n",
      "[1,   200] double loss: 0.0171437\n",
      "[1,   300] double loss: 0.0164462\n",
      "Accuracy of the network on the 10000 test images: 22.320000 %\n",
      "Accuracy of the network on the train images: 22.598000 %\n",
      "Training starts\n",
      "[1,   100] double loss: 0.0150487\n",
      "[1,   200] double loss: 0.0148103\n",
      "[1,   300] double loss: 0.0144287\n",
      "Accuracy of the network on the 10000 test images: 29.040000 %\n",
      "Accuracy of the network on the train images: 29.106000 %\n",
      "Training starts\n",
      "[1,   100] double loss: 0.0139216\n",
      "[1,   200] double loss: 0.0135255\n",
      "[1,   300] double loss: 0.0130410\n",
      "Accuracy of the network on the 10000 test images: 36.810000 %\n",
      "Accuracy of the network on the train images: 38.044000 %\n",
      "Training starts\n",
      "[1,   100] double loss: 0.0121908\n",
      "[1,   200] double loss: 0.0115984\n",
      "[1,   300] double loss: 0.0111766\n",
      "Accuracy of the network on the 10000 test images: 48.910000 %\n",
      "Accuracy of the network on the train images: 51.398000 %\n",
      "Training starts\n",
      "[1,   100] double loss: 0.0102677\n",
      "[1,   200] double loss: 0.0099244\n",
      "[1,   300] double loss: 0.0093621\n",
      "Accuracy of the network on the 10000 test images: 58.380000 %\n",
      "Accuracy of the network on the train images: 61.060000 %\n",
      "Training starts\n",
      "[1,   100] double loss: 0.0085510\n",
      "[1,   200] double loss: 0.0083123\n",
      "[1,   300] double loss: 0.0079764\n",
      "Accuracy of the network on the 10000 test images: 64.240000 %\n",
      "Accuracy of the network on the train images: 65.694000 %\n",
      "Training starts\n",
      "[1,   100] double loss: 0.0073673\n",
      "[1,   200] double loss: 0.0071868\n",
      "[1,   300] double loss: 0.0069315\n",
      "Accuracy of the network on the 10000 test images: 68.920000 %\n",
      "Accuracy of the network on the train images: 70.960000 %\n",
      "Training starts\n",
      "[1,   100] double loss: 0.0065723\n",
      "[1,   200] double loss: 0.0062935\n",
      "[1,   300] double loss: 0.0061538\n",
      "Accuracy of the network on the 10000 test images: 71.640000 %\n",
      "Accuracy of the network on the train images: 73.988000 %\n",
      "Training starts\n",
      "[1,   100] double loss: 0.0060256\n",
      "[1,   200] double loss: 0.0058638\n",
      "[1,   300] double loss: 0.0058622\n",
      "Accuracy of the network on the 10000 test images: 73.640000 %\n",
      "Accuracy of the network on the train images: 75.484000 %\n",
      "Training starts\n",
      "[1,   100] double loss: 0.0056200\n",
      "[1,   200] double loss: 0.0055086\n",
      "[1,   300] double loss: 0.0057078\n",
      "Accuracy of the network on the 10000 test images: 75.070000 %\n",
      "Accuracy of the network on the train images: 77.626000 %\n",
      "Training starts\n",
      "[1,   100] double loss: 0.0051034\n",
      "[1,   200] double loss: 0.0053875\n",
      "[1,   300] double loss: 0.0053212\n",
      "Accuracy of the network on the 10000 test images: 76.190000 %\n",
      "Accuracy of the network on the train images: 78.250000 %\n",
      "Training starts\n",
      "[1,   100] double loss: 0.0050494\n",
      "[1,   200] double loss: 0.0051395\n",
      "[1,   300] double loss: 0.0049694\n",
      "Accuracy of the network on the 10000 test images: 77.840000 %\n",
      "Accuracy of the network on the train images: 80.228000 %\n",
      "Training starts\n",
      "[1,   100] double loss: 0.0049165\n",
      "[1,   200] double loss: 0.0050937\n",
      "[1,   300] double loss: 0.0048874\n",
      "Accuracy of the network on the 10000 test images: 78.040000 %\n",
      "Accuracy of the network on the train images: 80.768000 %\n",
      "Training starts\n",
      "[1,   100] double loss: 0.0046307\n",
      "[1,   200] double loss: 0.0048806\n",
      "[1,   300] double loss: 0.0046776\n",
      "Accuracy of the network on the 10000 test images: 78.700000 %\n",
      "Accuracy of the network on the train images: 81.996000 %\n"
     ]
    }
   ],
   "source": [
    "for i in range(15): \n",
    "    optimizer = optim.SGD(net.parameters(), lr=1e-1, momentum=0.9, weight_decay=5e-4)\n",
    "    trainNN(net, trainloader, optimizer, criterion,  1)\n",
    "    print('Accuracy of the network on the 10000 test images: %f %%' % (\n",
    "        100 * cal_accuracy(net, testloader)))\n",
    "    print('Accuracy of the network on the train images: %f %%' % (\n",
    "        100 * cal_accuracy(net, trainloader)))"
   ]
  },
  {
   "cell_type": "code",
   "execution_count": 11,
   "metadata": {},
   "outputs": [
    {
     "name": "stdout",
     "output_type": "stream",
     "text": [
      "Training starts\n",
      "[1,   100] double loss: 0.0034982\n",
      "[1,   200] double loss: 0.0031399\n",
      "[1,   300] double loss: 0.0028568\n",
      "Accuracy of the network on the 10000 test images: 84.660000 %\n",
      "Accuracy of the network on the train images: 88.602000 %\n",
      "Training starts\n",
      "[1,   100] double loss: 0.0027024\n",
      "[1,   200] double loss: 0.0026622\n",
      "[1,   300] double loss: 0.0027304\n",
      "Accuracy of the network on the 10000 test images: 85.730000 %\n",
      "Accuracy of the network on the train images: 89.658000 %\n",
      "Training starts\n",
      "[1,   100] double loss: 0.0024801\n",
      "[1,   200] double loss: 0.0024789\n",
      "[1,   300] double loss: 0.0024303\n",
      "Accuracy of the network on the 10000 test images: 86.100000 %\n",
      "Accuracy of the network on the train images: 90.298000 %\n",
      "Training starts\n",
      "[1,   100] double loss: 0.0022867\n",
      "[1,   200] double loss: 0.0023067\n",
      "[1,   300] double loss: 0.0023391\n",
      "Accuracy of the network on the 10000 test images: 86.590000 %\n",
      "Accuracy of the network on the train images: 91.162000 %\n",
      "Training starts\n",
      "[1,   100] double loss: 0.0020568\n",
      "[1,   200] double loss: 0.0021888\n",
      "[1,   300] double loss: 0.0021949\n",
      "Accuracy of the network on the 10000 test images: 86.410000 %\n",
      "Accuracy of the network on the train images: 91.356000 %\n",
      "Training starts\n",
      "[1,   100] double loss: 0.0019789\n",
      "[1,   200] double loss: 0.0019898\n",
      "[1,   300] double loss: 0.0020816\n",
      "Accuracy of the network on the 10000 test images: 86.860000 %\n",
      "Accuracy of the network on the train images: 92.056000 %\n",
      "Training starts\n",
      "[1,   100] double loss: 0.0019652\n",
      "[1,   200] double loss: 0.0019355\n",
      "[1,   300] double loss: 0.0019927\n",
      "Accuracy of the network on the 10000 test images: 87.010000 %\n",
      "Accuracy of the network on the train images: 92.498000 %\n",
      "Training starts\n",
      "[1,   100] double loss: 0.0017610\n",
      "[1,   200] double loss: 0.0018720\n",
      "[1,   300] double loss: 0.0018202\n",
      "Accuracy of the network on the 10000 test images: 86.710000 %\n",
      "Accuracy of the network on the train images: 92.664000 %\n",
      "Training starts\n",
      "[1,   100] double loss: 0.0017498\n",
      "[1,   200] double loss: 0.0018581\n",
      "[1,   300] double loss: 0.0018122\n",
      "Accuracy of the network on the 10000 test images: 87.190000 %\n",
      "Accuracy of the network on the train images: 93.162000 %\n",
      "Training starts\n",
      "[1,   100] double loss: 0.0016650\n",
      "[1,   200] double loss: 0.0017458\n",
      "[1,   300] double loss: 0.0017462\n",
      "Accuracy of the network on the 10000 test images: 87.260000 %\n",
      "Accuracy of the network on the train images: 93.076000 %\n"
     ]
    }
   ],
   "source": [
    "for i in range(10): \n",
    "    optimizer = optim.SGD(net.parameters(), lr=1e-2, momentum=0.9, weight_decay=5e-4)\n",
    "    trainNN(net, trainloader, optimizer, criterion,  1)\n",
    "    print('Accuracy of the network on the 10000 test images: %f %%' % (\n",
    "        100 * cal_accuracy(net, testloader)))\n",
    "    print('Accuracy of the network on the train images: %f %%' % (\n",
    "        100 * cal_accuracy(net, trainloader)))"
   ]
  },
  {
   "cell_type": "code",
   "execution_count": 12,
   "metadata": {},
   "outputs": [
    {
     "name": "stdout",
     "output_type": "stream",
     "text": [
      "Training starts\n",
      "[1,   100] double loss: 0.0014415\n",
      "[1,   200] double loss: 0.0013806\n",
      "[1,   300] double loss: 0.0014201\n",
      "Accuracy of the network on the 10000 test images: 88.200000 %\n",
      "Accuracy of the network on the train images: 94.650000 %\n",
      "Training starts\n",
      "[1,   100] double loss: 0.0013196\n",
      "[1,   200] double loss: 0.0013075\n",
      "[1,   300] double loss: 0.0012244\n",
      "Accuracy of the network on the 10000 test images: 88.250000 %\n",
      "Accuracy of the network on the train images: 94.786000 %\n",
      "Training starts\n",
      "[1,   100] double loss: 0.0012677\n",
      "[1,   200] double loss: 0.0012741\n",
      "[1,   300] double loss: 0.0012459\n",
      "Accuracy of the network on the 10000 test images: 88.520000 %\n",
      "Accuracy of the network on the train images: 95.166000 %\n",
      "Training starts\n",
      "[1,   100] double loss: 0.0011962\n",
      "[1,   200] double loss: 0.0012355\n",
      "[1,   300] double loss: 0.0012898\n",
      "Accuracy of the network on the 10000 test images: 88.410000 %\n",
      "Accuracy of the network on the train images: 95.156000 %\n",
      "Training starts\n",
      "[1,   100] double loss: 0.0011766\n",
      "[1,   200] double loss: 0.0011893\n",
      "[1,   300] double loss: 0.0012488\n",
      "Accuracy of the network on the 10000 test images: 88.300000 %\n",
      "Accuracy of the network on the train images: 95.326000 %\n",
      "Training starts\n",
      "[1,   100] double loss: 0.0011715\n",
      "[1,   200] double loss: 0.0012481\n",
      "[1,   300] double loss: 0.0012058\n",
      "Accuracy of the network on the 10000 test images: 88.410000 %\n",
      "Accuracy of the network on the train images: 95.550000 %\n",
      "Training starts\n",
      "[1,   100] double loss: 0.0011865\n",
      "[1,   200] double loss: 0.0011549\n",
      "[1,   300] double loss: 0.0011887\n",
      "Accuracy of the network on the 10000 test images: 88.340000 %\n",
      "Accuracy of the network on the train images: 95.626000 %\n",
      "Training starts\n",
      "[1,   100] double loss: 0.0012247\n",
      "[1,   200] double loss: 0.0011469\n",
      "[1,   300] double loss: 0.0011484\n",
      "Accuracy of the network on the 10000 test images: 88.320000 %\n",
      "Accuracy of the network on the train images: 95.860000 %\n",
      "Training starts\n",
      "[1,   100] double loss: 0.0011416\n",
      "[1,   200] double loss: 0.0011206\n",
      "[1,   300] double loss: 0.0011977\n",
      "Accuracy of the network on the 10000 test images: 88.400000 %\n",
      "Accuracy of the network on the train images: 95.934000 %\n",
      "Training starts\n",
      "[1,   100] double loss: 0.0011173\n",
      "[1,   200] double loss: 0.0011504\n",
      "[1,   300] double loss: 0.0011255\n",
      "Accuracy of the network on the 10000 test images: 87.980000 %\n",
      "Accuracy of the network on the train images: 96.080000 %\n"
     ]
    }
   ],
   "source": [
    "for i in range(10): \n",
    "    optimizer = optim.SGD(net.parameters(), lr=1e-3, momentum=0.9, weight_decay=1e-2)\n",
    "    trainNN(net, trainloader, optimizer, criterion,  1)\n",
    "    print('Accuracy of the network on the 10000 test images: %f %%' % (\n",
    "        100 * cal_accuracy(net, testloader)))\n",
    "    print('Accuracy of the network on the train images: %f %%' % (\n",
    "        100 * cal_accuracy(net, trainloader)))"
   ]
  },
  {
   "cell_type": "code",
   "execution_count": 55,
   "metadata": {},
   "outputs": [
    {
     "name": "stdout",
     "output_type": "stream",
     "text": [
      "Training starts\n",
      "[1,   100] double loss: 0.0010835\n",
      "[1,   200] double loss: 0.0010988\n",
      "[1,   300] double loss: 0.0010807\n",
      "Accuracy of the network on the 10000 test images: 88.320000 %\n",
      "Accuracy of the network on the train images: 96.224000 %\n",
      "Training starts\n",
      "[1,   100] double loss: 0.0010811\n",
      "[1,   200] double loss: 0.0010761\n",
      "[1,   300] double loss: 0.0010364\n",
      "Accuracy of the network on the 10000 test images: 88.480000 %\n",
      "Accuracy of the network on the train images: 96.162000 %\n",
      "Training starts\n",
      "[1,   100] double loss: 0.0010764\n",
      "[1,   200] double loss: 0.0010641\n",
      "[1,   300] double loss: 0.0010125\n",
      "Accuracy of the network on the 10000 test images: 88.570000 %\n",
      "Accuracy of the network on the train images: 96.352000 %\n",
      "Training starts\n",
      "[1,   100] double loss: 0.0010251\n",
      "[1,   200] double loss: 0.0010229\n",
      "[1,   300] double loss: 0.0010575\n",
      "Accuracy of the network on the 10000 test images: 88.490000 %\n",
      "Accuracy of the network on the train images: 96.152000 %\n",
      "Training starts\n",
      "[1,   100] double loss: 0.0010938\n",
      "[1,   200] double loss: 0.0010359\n",
      "[1,   300] double loss: 0.0010149\n",
      "Accuracy of the network on the 10000 test images: 88.590000 %\n",
      "Accuracy of the network on the train images: 96.392000 %\n",
      "Training starts\n",
      "[1,   100] double loss: 0.0010412\n",
      "[1,   200] double loss: 0.0010801\n",
      "[1,   300] double loss: 0.0010323\n",
      "Accuracy of the network on the 10000 test images: 88.580000 %\n",
      "Accuracy of the network on the train images: 96.354000 %\n",
      "Training starts\n",
      "[1,   100] double loss: 0.0010717\n",
      "[1,   200] double loss: 0.0010647\n",
      "[1,   300] double loss: 0.0010069\n",
      "Accuracy of the network on the 10000 test images: 88.590000 %\n",
      "Accuracy of the network on the train images: 96.380000 %\n",
      "Training starts\n",
      "[1,   100] double loss: 0.0010070\n",
      "[1,   200] double loss: 0.0010115\n",
      "[1,   300] double loss: 0.0010128\n",
      "Accuracy of the network on the 10000 test images: 88.510000 %\n",
      "Accuracy of the network on the train images: 96.406000 %\n",
      "Training starts\n",
      "[1,   100] double loss: 0.0009781\n",
      "[1,   200] double loss: 0.0010264\n",
      "[1,   300] double loss: 0.0010377\n",
      "Accuracy of the network on the 10000 test images: 88.560000 %\n",
      "Accuracy of the network on the train images: 96.296000 %\n",
      "Training starts\n",
      "[1,   100] double loss: 0.0010305\n",
      "[1,   200] double loss: 0.0010691\n",
      "[1,   300] double loss: 0.0010141\n",
      "Accuracy of the network on the 10000 test images: 88.630000 %\n",
      "Accuracy of the network on the train images: 96.346000 %\n"
     ]
    }
   ],
   "source": [
    "for i in range(10): \n",
    "    optimizer = optim.SGD(net.parameters(), lr=1e-4, momentum=0.9, weight_decay=1e-2)\n",
    "    trainNN(net, trainloader, optimizer, criterion,  1)\n",
    "    print('Accuracy of the network on the 10000 test images: %f %%' % (\n",
    "        100 * cal_accuracy(net, testloader)))\n",
    "    print('Accuracy of the network on the train images: %f %%' % (\n",
    "        100 * cal_accuracy(net, trainloader)))"
   ]
  },
  {
   "cell_type": "code",
   "execution_count": 71,
   "metadata": {},
   "outputs": [
    {
     "name": "stdout",
     "output_type": "stream",
     "text": [
      "Training starts\n",
      "[1,   100] double loss: 0.0009798\n",
      "[1,   200] double loss: 0.0009832\n",
      "[1,   300] double loss: 0.0010066\n",
      "[2,   100] double loss: 0.0009772\n",
      "[2,   200] double loss: 0.0009841\n",
      "[2,   300] double loss: 0.0009236\n",
      "[3,   100] double loss: 0.0009602\n",
      "[3,   200] double loss: 0.0010207\n",
      "[3,   300] double loss: 0.0010227\n",
      "[4,   100] double loss: 0.0009752\n",
      "[4,   200] double loss: 0.0009661\n",
      "[4,   300] double loss: 0.0010351\n",
      "[5,   100] double loss: 0.0009892\n",
      "[5,   200] double loss: 0.0009742\n",
      "[5,   300] double loss: 0.0010465\n",
      "Accuracy of the network on the 10000 test images: 88.520000 %\n",
      "Accuracy of the network on the train images: 96.358000 %\n",
      "Training starts\n",
      "[1,   100] double loss: 0.0009773\n",
      "[1,   200] double loss: 0.0009930\n",
      "[1,   300] double loss: 0.0009997\n",
      "[2,   100] double loss: 0.0009749\n",
      "[2,   200] double loss: 0.0010340\n",
      "[2,   300] double loss: 0.0009955\n",
      "[3,   100] double loss: 0.0009490\n",
      "[3,   200] double loss: 0.0010103\n",
      "[3,   300] double loss: 0.0010110\n",
      "[4,   100] double loss: 0.0010149\n",
      "[4,   200] double loss: 0.0010123\n",
      "[4,   300] double loss: 0.0009908\n",
      "[5,   100] double loss: 0.0010307\n",
      "[5,   200] double loss: 0.0010150\n",
      "[5,   300] double loss: 0.0010034\n",
      "Accuracy of the network on the 10000 test images: 88.550000 %\n",
      "Accuracy of the network on the train images: 96.412000 %\n",
      "Training starts\n",
      "[1,   100] double loss: 0.0010025\n",
      "[1,   200] double loss: 0.0009920\n",
      "[1,   300] double loss: 0.0010101\n",
      "[2,   100] double loss: 0.0010154\n",
      "[2,   200] double loss: 0.0009805\n",
      "[2,   300] double loss: 0.0009724\n",
      "[3,   100] double loss: 0.0009992\n",
      "[3,   200] double loss: 0.0009843\n",
      "[3,   300] double loss: 0.0009730\n",
      "[4,   100] double loss: 0.0010024\n",
      "[4,   200] double loss: 0.0009801\n",
      "[4,   300] double loss: 0.0009648\n",
      "[5,   100] double loss: 0.0010094\n",
      "[5,   200] double loss: 0.0009636\n",
      "[5,   300] double loss: 0.0010091\n",
      "Accuracy of the network on the 10000 test images: 88.550000 %\n",
      "Accuracy of the network on the train images: 96.432000 %\n"
     ]
    }
   ],
   "source": [
    "for i in range(3): \n",
    "    optimizer = optim.SGD(net.parameters(), lr=1e-5, momentum=0.9, weight_decay=1e-2)\n",
    "    trainNN(net, trainloader, optimizer, criterion,  5)\n",
    "    print('Accuracy of the network on the 10000 test images: %f %%' % (\n",
    "        100 * cal_accuracy(net, testloader)))\n",
    "    print('Accuracy of the network on the train images: %f %%' % (\n",
    "        100 * cal_accuracy(net, trainloader)))"
   ]
  },
  {
   "cell_type": "code",
   "execution_count": 72,
   "metadata": {},
   "outputs": [
    {
     "name": "stdout",
     "output_type": "stream",
     "text": [
      "66\n"
     ]
    }
   ],
   "source": [
    "params = list(net.parameters())\n",
    "print(len(params))"
   ]
  },
  {
   "cell_type": "code",
   "execution_count": 73,
   "metadata": {},
   "outputs": [
    {
     "name": "stdout",
     "output_type": "stream",
     "text": [
      "Accuracy of plane : 88 %\n",
      "Accuracy of   car : 96 %\n",
      "Accuracy of  bird : 76 %\n",
      "Accuracy of   cat : 90 %\n",
      "Accuracy of  deer : 93 %\n",
      "Accuracy of   dog : 81 %\n",
      "Accuracy of  frog : 94 %\n",
      "Accuracy of horse : 87 %\n",
      "Accuracy of  ship : 97 %\n",
      "Accuracy of truck : 93 %\n"
     ]
    }
   ],
   "source": [
    "cal_class_accuracy(net, testloader)"
   ]
  },
  {
   "cell_type": "code",
   "execution_count": 74,
   "metadata": {},
   "outputs": [
    {
     "name": "stderr",
     "output_type": "stream",
     "text": [
      "Clipping input data to the valid range for imshow with RGB data ([0..1] for floats or [0..255] for integers).\n"
     ]
    },
    {
     "data": {
      "image/png": "[encoded data removed]",
      "text/plain": [
       "<Figure size 432x288 with 1 Axes>"
      ]
     },
     "metadata": {
      "needs_background": "light"
     },
     "output_type": "display_data"
    }
   ],
   "source": [
    "images = submit_images[2100:2105]\n",
    "imshow(torchvision.utils.make_grid(images))"
   ]
  },
  {
   "cell_type": "code",
   "execution_count": 75,
   "metadata": {},
   "outputs": [
    {
     "name": "stdout",
     "output_type": "stream",
     "text": [
      "(3000, 3, 32, 32)\n"
     ]
    },
    {
     "name": "stderr",
     "output_type": "stream",
     "text": [
      "Clipping input data to the valid range for imshow with RGB data ([0..1] for floats or [0..255] for integers).\n"
     ]
    },
    {
     "data": {
      "image/png": "[encoded data removed]",
      "text/plain": [
       "<Figure size 432x288 with 1 Axes>"
      ]
     },
     "metadata": {
      "needs_background": "light"
     },
     "output_type": "display_data"
    }
   ],
   "source": [
    "dataiter = iter(submitloader)\n",
    "images = dataiter.next()\n",
    "print(np.array(images).shape)\n",
    "imshow(torchvision.utils.make_grid(images))"
   ]
  },
  {
   "cell_type": "code",
   "execution_count": 76,
   "metadata": {
    "scrolled": true
   },
   "outputs": [
    {
     "data": {
      "text/plain": [
       "2005"
      ]
     },
     "execution_count": 76,
     "metadata": {},
     "output_type": "execute_result"
    }
   ],
   "source": [
    "gc.collect()"
   ]
  },
  {
   "cell_type": "code",
   "execution_count": 77,
   "metadata": {},
   "outputs": [],
   "source": [
    "# res_labels = get_submit_result(net, submitloader)\n",
    "res_per = []\n",
    "with torch.no_grad():\n",
    "    for i, data in enumerate(submitloader, 0):\n",
    "        inputs = data.to(device)\n",
    "        # forward + backward + optimize\n",
    "        outputs = net(inputs)\n",
    "        for o in outputs:\n",
    "            res_per.append(o)\n",
    "res_labels = [int(torch.max(t,0)[1]) for t in res_per]\n"
   ]
  },
  {
   "cell_type": "code",
   "execution_count": 78,
   "metadata": {},
   "outputs": [
    {
     "name": "stderr",
     "output_type": "stream",
     "text": [
      "Clipping input data to the valid range for imshow with RGB data ([0..1] for floats or [0..255] for integers).\n"
     ]
    },
    {
     "name": "stdout",
     "output_type": "stream",
     "text": [
      "plane plane plane plane plane plane  ship   cat  ship plane plane plane  ship plane plane plane plane  deer plane truck plane plane plane plane plane plane plane plane plane truck\n"
     ]
    },
    {
     "data": {
      "image/png": "[encoded data removed]",
      "text/plain": [
       "<Figure size 432x288 with 1 Axes>"
      ]
     },
     "metadata": {
      "needs_background": "light"
     },
     "output_type": "display_data"
    }
   ],
   "source": [
    "images = submit_images[0:30]\n",
    "imshow(torchvision.utils.make_grid(images))\n",
    "print(' '.join('%5s' % classes[res_labels[j]] for j in range(0, 30)))"
   ]
  },
  {
   "cell_type": "code",
   "execution_count": 79,
   "metadata": {},
   "outputs": [],
   "source": [
    "if export_csv:\n",
    "    export_to_file(csv_name, res_labels)"
   ]
  }
 ],
 "metadata": {
  "kernelspec": {
   "display_name": "Python 3",
   "language": "python",
   "name": "python3"
  },
  "language_info": {
   "codemirror_mode": {
    "name": "ipython",
    "version": 3
   },
   "file_extension": ".py",
   "mimetype": "text/x-python",
   "name": "python",
   "nbconvert_exporter": "python",
   "pygments_lexer": "ipython3",
   "version": "3.7.0"
  },
  "pycharm": {
   "stem_cell": {
    "cell_type": "raw",
    "metadata": {
     "collapsed": false
    },
    "source": []
   }
  }
 },
 "nbformat": 4,
 "nbformat_minor": 2
}
