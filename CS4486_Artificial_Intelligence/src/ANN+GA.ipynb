{
 "cells": [
  {
   "cell_type": "code",
   "execution_count": 41,
   "metadata": {},
   "outputs": [],
   "source": [
    "import numpy as np\n",
    "import pandas as pd\n",
    "import random, operator, copy\n",
    "import matplotlib.pyplot as plt\n",
    "from sklearn.model_selection import KFold\n",
    "from mpl_toolkits.mplot3d import Axes3D"
   ]
  },
  {
   "cell_type": "code",
   "execution_count": 2,
   "metadata": {},
   "outputs": [],
   "source": [
    "def split(data, label, num):\n",
    "    idx = np.random.choice(data.shape[0], num, replace=False)\n",
    "    data_train = data[idx]\n",
    "    label_train = label[idx]\n",
    "    data_test = data[[x for x in range(data.shape[0]) if x not in idx]]\n",
    "    label_test = label[[x for x in range(data.shape[0]) if x not in idx]]\n",
    "    return data_train, label_train, data_test, label_test"
   ]
  },
  {
   "cell_type": "code",
   "execution_count": 3,
   "metadata": {},
   "outputs": [],
   "source": [
    "def sigmoid(x):\n",
    "    return 1.0 / (1+np.exp(-x))"
   ]
  },
  {
   "cell_type": "code",
   "execution_count": 4,
   "metadata": {},
   "outputs": [],
   "source": [
    "def tanh(x):\n",
    "    return np.tanh(x)"
   ]
  },
  {
   "cell_type": "code",
   "execution_count": 5,
   "metadata": {},
   "outputs": [],
   "source": [
    "def Gaussian(x):\n",
    "    return np.exp(-x**2)"
   ]
  },
  {
   "cell_type": "code",
   "execution_count": 6,
   "metadata": {},
   "outputs": [],
   "source": [
    "def ReLU(x):\n",
    "    return np.where(x>0, x, 0)"
   ]
  },
  {
   "cell_type": "code",
   "execution_count": 7,
   "metadata": {},
   "outputs": [],
   "source": [
    "def dropout(x, p):\n",
    "    mask = (np.random.uniform(0,1,x.shape)<=p)/p\n",
    "    return x*mask"
   ]
  },
  {
   "cell_type": "code",
   "execution_count": 8,
   "metadata": {},
   "outputs": [],
   "source": [
    "def forward(Ws, data, label, activation = \"sigmoid\", dropP=1):\n",
    "    # No need to add bias as the first column of the data is all 1s\n",
    "    out = data\n",
    "    for W in Ws:\n",
    "        out = np.hstack([np.ones((out.shape[0], 1)),out])\n",
    "        out = dropout(out, dropP)\n",
    "        out = out.dot(W)\n",
    "        if activation == 'sigmoid':\n",
    "            out = sigmoid(out)\n",
    "        elif activation == 'tanh':\n",
    "            out = tanh(out)\n",
    "        elif activation == 'Gaussian':\n",
    "            out = Gaussian(out)\n",
    "        elif activation == 'ReLU':\n",
    "            out = ReLU(out)\n",
    "    loss = 0.5*np.sum((out-label)**2)/data.shape[0]\n",
    "    pred = np.argmax(out, axis=1)\n",
    "    truth = np.argmax(label, axis=1)\n",
    "    accuracy = np.mean(pred==truth)\n",
    "    return loss, accuracy, pred"
   ]
  },
  {
   "cell_type": "code",
   "execution_count": 9,
   "metadata": {},
   "outputs": [],
   "source": [
    "def normalizeFitness(fitness):\n",
    "    return fitness/np.sum(fitness)"
   ]
  },
  {
   "cell_type": "code",
   "execution_count": 10,
   "metadata": {},
   "outputs": [],
   "source": [
    "def sortPopulation(population, data, label, dropP):\n",
    "    # Sort the population by their fitness by descending order\n",
    "    # Return the list of tuples,\n",
    "    # where the first is the index of individual in the original population \n",
    "    # and the second is the corresponding fitness. \n",
    "    fitness = {}\n",
    "    for i in range(len(population)):\n",
    "        _, fitness[i], __ = forward(population[i], data, label, 'ReLU', dropP)\n",
    "    sortedResult = sorted(fitness.items(), key = operator.itemgetter(1), reverse = True)\n",
    "    fitness = [fit for idx,fit in sortedResult]\n",
    "    sortedPop = population[[idx for idx,fit in sortedResult]]\n",
    "    return fitness, sortedPop"
   ]
  },
  {
   "cell_type": "code",
   "execution_count": 11,
   "metadata": {},
   "outputs": [],
   "source": [
    "def initIndividual(NNPar):\n",
    "    input_attr, hidden_layers, num_classes = NNPar\n",
    "    Ws = np.array([None for x in range(len(hidden_layers)+1)])\n",
    "    hidden_layers = [input_attr]+hidden_layers+[num_classes]\n",
    "    for i in range(len(hidden_layers)-1):\n",
    "        Ws[i] = np.random.uniform(-1,1,(hidden_layers[i]+1,hidden_layers[i+1]))\n",
    "    return Ws"
   ]
  },
  {
   "cell_type": "code",
   "execution_count": 12,
   "metadata": {},
   "outputs": [],
   "source": [
    "def initialPopulation(popSize, NNPar):\n",
    "    # Create popSize population\n",
    "    population = []\n",
    "    for i in range(popSize):\n",
    "        population.append(initIndividual(NNPar))\n",
    "    return np.array(population)"
   ]
  },
  {
   "cell_type": "code",
   "execution_count": 13,
   "metadata": {},
   "outputs": [],
   "source": [
    "def crossover(parent1, parent2, crossoverRate):\n",
    "    # Crossover with the probability crossoverRate\n",
    "    # Return the parent1 if no crossover occurs, or is the new individual. \n",
    "    if random.random()<crossoverRate:\n",
    "        child = np.array([None for i in range(parent1.shape[0])])\n",
    "        for i in range(parent1.shape[0]):\n",
    "            tmp = np.array([parent1[i], parent2[i]])\n",
    "            idx = np.random.randint(2, size=tmp.shape[2])\n",
    "            child[i] = tmp[idx,:,range(tmp.shape[2])].T\n",
    "        return child\n",
    "    else:\n",
    "        return copy.deepcopy(parent1)"
   ]
  },
  {
   "cell_type": "code",
   "execution_count": 14,
   "metadata": {},
   "outputs": [],
   "source": [
    "def mutation(individual, mutationRate):\n",
    "    # Randomly choose two city to swap with the probability mutationRate\n",
    "    if random.random()<mutationRate:\n",
    "        for i in range(individual.shape[0]):\n",
    "            idx = np.random.randint(2, size=individual[i].shape)\n",
    "            randnum = np.random.uniform(-1,1)\n",
    "            individual[i][idx==1] = randnum"
   ]
  },
  {
   "cell_type": "code",
   "execution_count": 15,
   "metadata": {},
   "outputs": [],
   "source": [
    "def nextGeneration(curPop, popSize, crossover_rate, mutation_rate, elitePer, fitness, data, label, dropP):\n",
    "    eliteSize = int(elitePer*popSize)\n",
    "    \n",
    "    if fitness==None:\n",
    "        p, sortedPop = sortPopulation(curPop, data, label, dropP)\n",
    "    else:\n",
    "        p = fitness\n",
    "        sortedPop = curPop\n",
    "    \n",
    "    p = normalizeFitness(p)\n",
    "    #preserve elite children\n",
    "    elite = sortedPop[:eliteSize]\n",
    "    \n",
    "    children = []\n",
    "    \n",
    "    #crossover\n",
    "    for p1 in sortedPop:\n",
    "        p2 = sortedPop[np.random.choice(range(len(sortedPop)),p = p)]\n",
    "        if p1 in elite:\n",
    "            children.append(crossover(p1, p2, 1))\n",
    "        else:\n",
    "            children.append(crossover(p1, p2, crossover_rate))\n",
    "    \n",
    "    #mutation\n",
    "    for i in range(len(children)):\n",
    "        mutation(children[i], mutation_rate)\n",
    "    children = np.vstack([children, elite])\n",
    "    fitness, children = sortPopulation(children, data, label, dropP)\n",
    "    return fitness[:popSize], children[:popSize]"
   ]
  },
  {
   "cell_type": "code",
   "execution_count": 16,
   "metadata": {},
   "outputs": [],
   "source": [
    "dataset = pd.read_csv('./diabetes.txt', sep='\\t').values[:,1:]\n",
    "data = dataset[:,:-2]\n",
    "label = dataset[:,-2:]"
   ]
  },
  {
   "cell_type": "code",
   "execution_count": 17,
   "metadata": {},
   "outputs": [],
   "source": [
    "hidden_layers = [20,20, 10]\n",
    "\n",
    "num_classes = 2 \n",
    "input_attr = 8\n",
    "mutation_rate = 0.1\n",
    "crossover_rate = 0.9\n",
    "\n",
    "num_generations = 800\n",
    "popSize = 50\n",
    "dropP=1\n",
    "elitePer = 0.1\n",
    "\n",
    "#data_train, label_train, data_test, label_test = split(data, label, 600)\n",
    "kf = KFold(n_splits = 6)"
   ]
  },
  {
   "cell_type": "raw",
   "metadata": {},
   "source": [
    "K-Fold Cross Validation"
   ]
  },
  {
   "cell_type": "raw",
   "metadata": {
    "scrolled": false
   },
   "source": [
    "%%time\n",
    "fitness_hist = []\n",
    "for train_index, test_index in kf.split(data):\n",
    "    X_train, X_val = data[train_index], data[test_index]\n",
    "    y_train, y_val = label[train_index], label[test_index]\n",
    "    fitness = None\n",
    "    best_fitness_hist = []\n",
    "    pop = initialPopulation(popSize, (input_attr, hidden_layers, num_classes))\n",
    "    for g in range(num_generations):\n",
    "        fitness, pop = nextGeneration(pop, popSize,\n",
    "                                      crossover_rate,\n",
    "                                      mutation_rate**(num_generations**2*1.0/(num_generations**2+g**2)),\n",
    "                                      elitePer, fitness,\n",
    "                                      X_train, y_train, 1)\n",
    "        best_fitness_hist.append(fitness[0])\n",
    "\n",
    "        if (g+1)%200==0:\n",
    "            print(\"Iteration %02d: %lf\"%(g+1, best_fitness_hist[-1]))\n",
    "    _, acc_val, __=forward(pop[0], X_val, y_val, 'ReLU', 1)\n",
    "    fitness_hist.append(acc_val)"
   ]
  },
  {
   "cell_type": "raw",
   "metadata": {},
   "source": [
    "print(fitness_hist)\n",
    "print(np.mean(fitness_hist))"
   ]
  },
  {
   "cell_type": "raw",
   "metadata": {},
   "source": [
    "first_layer = [4, 8, 10, 20, 50, 80, 100, 150]\n",
    "second_layer = [4, 8, 10, 20, 50, 80, 100, 150]"
   ]
  },
  {
   "cell_type": "raw",
   "metadata": {},
   "source": [
    "%%time\n",
    "# It takes half day to run\n",
    "hist = []\n",
    "for fl in first_layer:\n",
    "    for sl in second_layer:\n",
    "        hidden_layers = [fl, sl]\n",
    "\n",
    "        num_classes = 2 \n",
    "        input_attr = 8\n",
    "        mutation_rate = 0.1\n",
    "        crossover_rate = 0.9\n",
    "\n",
    "        num_generations = 500\n",
    "        popSize = 50\n",
    "        dropP=1\n",
    "        elitePer = 0.1\n",
    "\n",
    "        batch_size = 200\n",
    "        train_fitness_hist = []\n",
    "        test_fitness_hist = []\n",
    "        for i in range(10):\n",
    "            fitness = None\n",
    "            best_fitness_hist = []\n",
    "            X_train, y_train, X_test, y_test = split(data, label, 600)\n",
    "            pop = initialPopulation(popSize, (input_attr, hidden_layers, num_classes))\n",
    "            for g in range(num_generations):\n",
    "                X_batch, y_batch, _, __ = split(X_train, y_train, batch_size)\n",
    "                fitness, pop = nextGeneration(pop, popSize,\n",
    "                                              crossover_rate,\n",
    "                                              mutation_rate,\n",
    "                                              elitePer, fitness,\n",
    "                                              X_batch, y_batch, 1)\n",
    "                best_fitness_hist.append(fitness[0])\n",
    "\n",
    "                if (g+1)%800==0:\n",
    "                    print(\"Iteration %02d: %lf\"%(g+1, best_fitness_hist[-1]))\n",
    "            _, acc_tr, __=forward(pop[0], X_train, y_train, 'ReLU', 1)\n",
    "            _, acc_test, __=forward(pop[0], X_test, y_test, 'ReLU', 1)\n",
    "            train_fitness_hist.append(acc_tr)\n",
    "            test_fitness_hist.append(acc_test)\n",
    "        hist.append(np.mean(test_fitness_hist))"
   ]
  },
  {
   "cell_type": "markdown",
   "metadata": {},
   "source": [
    "print(np.mean(hist))\n",
    "\n",
    "X, Y=np.meshgrid(first_layer,second_layer)\n",
    "\n",
    "fig = plt.figure()\n",
    "ax = Axes3D(fig)\n",
    "\n",
    "Z = np.reshape(hist, (8,8))\n",
    "print(Z)\n",
    "print(np.argmax(Z))\n",
    "plt.title('The performance of different ANN')\n",
    "ax.plot_surface(X, Y, Z, rstride=1, cstride=1, cmap='rainbow')\n",
    "plt.show()\n",
    "\n"
   ]
  },
  {
   "cell_type": "code",
   "execution_count": 63,
   "metadata": {},
   "outputs": [
    {
     "name": "stderr",
     "output_type": "stream",
     "text": [
      "/root/anaconda3/lib/python3.6/site-packages/ipykernel_launcher.py:19: DeprecationWarning: elementwise == comparison failed; this will raise an error in the future.\n"
     ]
    }
   ],
   "source": [
    "hidden_layers = [10, 60]\n",
    "\n",
    "num_classes = 2 \n",
    "input_attr = 8\n",
    "mutation_rate = 0.1\n",
    "crossover_rate = 0.9\n",
    "\n",
    "num_generations = 500\n",
    "popSize = 50\n",
    "dropP=1\n",
    "elitePer = 0.1\n",
    "\n",
    "batch_size = 200\n",
    "train_fitness_hist = []\n",
    "test_fitness_hist = []\n",
    "for i in range(10):\n",
    "    fitness = None\n",
    "    best_fitness_hist = []\n",
    "    X_train, y_train, X_test, y_test = split(data, label, 600)\n",
    "    pop = initialPopulation(popSize, (input_attr, hidden_layers, num_classes))\n",
    "    for g in range(num_generations):\n",
    "        X_batch, y_batch, _, __ = split(X_train, y_train, batch_size)\n",
    "        fitness, pop = nextGeneration(pop, popSize,\n",
    "                                      crossover_rate,\n",
    "                                      mutation_rate,\n",
    "                                      elitePer, fitness,\n",
    "                                      X_batch, y_batch, 1)\n",
    "        best_fitness_hist.append(fitness[0])\n",
    "\n",
    "        if (g+1)%800==0:\n",
    "            print(\"Iteration %02d: %lf\"%(g+1, best_fitness_hist[-1]))\n",
    "    _, acc_tr, __=forward(pop[0], X_train, y_train, 'ReLU', 1)\n",
    "    _, acc_test, __=forward(pop[0], X_test, y_test, 'ReLU', 1)\n",
    "    train_fitness_hist.append(acc_tr)\n",
    "    test_fitness_hist.append(acc_test)"
   ]
  },
  {
   "cell_type": "code",
   "execution_count": 64,
   "metadata": {},
   "outputs": [
    {
     "name": "stdout",
     "output_type": "stream",
     "text": [
      "[0.7125748502994012, 0.7604790419161677, 0.7784431137724551, 0.7664670658682635, 0.7964071856287425, 0.7544910179640718, 0.7305389221556886, 0.7664670658682635, 0.7664670658682635, 0.7664670658682635]\n"
     ]
    },
    {
     "data": {
      "text/plain": [
       "0.759880239520958"
      ]
     },
     "execution_count": 64,
     "metadata": {},
     "output_type": "execute_result"
    }
   ],
   "source": [
    "print(test_fitness_hist)\n",
    "np.mean(test_fitness_hist)"
   ]
  },
  {
   "cell_type": "code",
   "execution_count": null,
   "metadata": {},
   "outputs": [],
   "source": []
  }
 ],
 "metadata": {
  "kernelspec": {
   "display_name": "Python 3",
   "language": "python",
   "name": "python3"
  },
  "language_info": {
   "codemirror_mode": {
    "name": "ipython",
    "version": 3
   },
   "file_extension": ".py",
   "mimetype": "text/x-python",
   "name": "python",
   "nbconvert_exporter": "python",
   "pygments_lexer": "ipython3",
   "version": "3.6.8"
  }
 },
 "nbformat": 4,
 "nbformat_minor": 2
}
