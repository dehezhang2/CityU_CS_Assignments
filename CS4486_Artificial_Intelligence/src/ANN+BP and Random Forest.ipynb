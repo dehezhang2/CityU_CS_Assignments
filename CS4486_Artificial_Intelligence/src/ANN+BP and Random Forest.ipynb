{
 "cells": [
  {
   "cell_type": "code",
   "execution_count": 1,
   "metadata": {},
   "outputs": [],
   "source": [
    "import torch\n",
    "import torch.nn as nn\n",
    "import torchvision\n",
    "import torchvision.transforms as transforms\n",
    "import pandas as pd\n",
    "import numpy as np"
   ]
  },
  {
   "cell_type": "code",
   "execution_count": 2,
   "metadata": {},
   "outputs": [
    {
     "data": {
      "text/plain": [
       "(768, 11)"
      ]
     },
     "execution_count": 2,
     "metadata": {},
     "output_type": "execute_result"
    }
   ],
   "source": [
    "data = pd.read_csv('diabetes.txt', sep='\\t', header=None).values\n",
    "device = torch.device('cuda:0' if torch.cuda.is_available() else 'cpu')\n",
    "#device = 'cpu'\n",
    "dtype = torch.cuda.FloatTensor\n",
    "\n",
    "input_size = 9\n",
    "num_classes = 2\n",
    "learning_rate = 0.01\n",
    "total_epochs = 2000\n",
    "hidden_size=[10, 10]\n",
    "batch_size = 300\n",
    "lr_decay = 0.01\n",
    "data.shape"
   ]
  },
  {
   "cell_type": "code",
   "execution_count": 3,
   "metadata": {},
   "outputs": [],
   "source": [
    "class MyDataset(torch.utils.data.Dataset):\n",
    "    def __init__(self, dataset):\n",
    "        self.data=dataset\n",
    "    def __getitem__(self, index):\n",
    "        return self.data[index,:-num_classes], self.data[index,-num_classes:]\n",
    "    def __len__(self):\n",
    "        return self.data.shape[0]"
   ]
  },
  {
   "cell_type": "code",
   "execution_count": 4,
   "metadata": {},
   "outputs": [],
   "source": [
    "train_loader = torch.utils.data.DataLoader(dataset = MyDataset(data[:600]), batch_size = batch_size, shuffle = True)\n",
    "test_loader = torch.utils.data.DataLoader(dataset = MyDataset(data[600:]), batch_size=batch_size, shuffle=False)"
   ]
  },
  {
   "cell_type": "code",
   "execution_count": 5,
   "metadata": {},
   "outputs": [],
   "source": [
    "class NeuralNet(nn.Module):\n",
    "    def __init__(self, input_size, hidden_size, num_classes):\n",
    "        super(NeuralNet, self).__init__()\n",
    "        layers=[nn.Linear(input_size, hidden_size[0])]\n",
    "        layers.append(nn.Sigmoid())\n",
    "        self.num_layers = len(hidden_size)\n",
    "        for i in range(len(hidden_size)-1):\n",
    "            layers.append(nn.Linear(hidden_size[i],hidden_size[i+1]))\n",
    "            layers.append(nn.Sigmoid())\n",
    "        layers.append(nn.Linear(hidden_size[-1], num_classes))\n",
    "        layers.append(nn.Sigmoid())\n",
    "        self.model = nn.Sequential(*layers)\n",
    "    def forward(self, x):\n",
    "        return self.model(x)"
   ]
  },
  {
   "cell_type": "code",
   "execution_count": 6,
   "metadata": {},
   "outputs": [],
   "source": [
    "def adjust_learning_rate(optimizer, iteration_count):\n",
    "    \"\"\"Imitating the original implementation\"\"\"\n",
    "    lr = learning_rate / (1+lr_decay * iteration_count)\n",
    "    for param_group in optimizer.param_groups:\n",
    "        param_group['lr'] = lr\n",
    "    return lr"
   ]
  },
  {
   "cell_type": "code",
   "execution_count": 12,
   "metadata": {
    "scrolled": false
   },
   "outputs": [
    {
     "name": "stdout",
     "output_type": "stream",
     "text": [
      "Epoch [2000/2000], Step [1/2], Loss: 0.2361, Lr:5e-09\n",
      "CPU times: user 1min 4s, sys: 809 ms, total: 1min 5s\n",
      "Wall time: 16.5 s\n"
     ]
    }
   ],
   "source": [
    "%%time\n",
    "learning_rate = [5e-9]\n",
    "for lr in learning_rate:\n",
    "    model = NeuralNet(input_size, hidden_size, num_classes).to(device).double()\n",
    "    criterion = nn.MSELoss()\n",
    "    optimizer = torch.optim.SGD(model.parameters(), lr=lr)\n",
    "    total_step = len(train_loader)\n",
    "    for epoch in range(total_epochs):\n",
    "        for i, (datas, labels) in enumerate(train_loader):\n",
    "            #lr = adjust_learning_rate(optimizer, total_step*epoch+i)\n",
    "            datas = datas.to(device)\n",
    "            labels = labels.to(device)\n",
    "            out = model(datas)\n",
    "            loss = criterion(out, labels)\n",
    "\n",
    "            optimizer.zero_grad()\n",
    "            loss.backward()\n",
    "            optimizer.step()\n",
    "            if(epoch+1)%2000==0 and i==0:\n",
    "               print ('Epoch [{}/{}], Step [{}/{}], Loss: {:.4f}, Lr:{}' \n",
    "                       .format(epoch+1, total_epochs, i+1, total_step, loss.item(), lr))"
   ]
  },
  {
   "cell_type": "code",
   "execution_count": 13,
   "metadata": {},
   "outputs": [
    {
     "name": "stdout",
     "output_type": "stream",
     "text": [
      "109\n",
      "Accuracy of the network on the 168 test images: 64.88095238095238 %\n"
     ]
    }
   ],
   "source": [
    "with torch.no_grad():\n",
    "    correct = 0\n",
    "    total = 0\n",
    "    for datas, labels in test_loader:\n",
    "        datas = datas.to(device)\n",
    "        labels = labels.to(device).long()\n",
    "        out = model(datas)\n",
    "        _, predicted = torch.max(out.data, 1)\n",
    "        total += labels.size(0)\n",
    "        _, labels = torch.max(labels, 1)\n",
    "        correct += (torch.eq(predicted,labels)).sum().item()\n",
    "    print(correct)\n",
    "    print('Accuracy of the network on the 168 test images: {} %'.format(100.0 * correct / total))"
   ]
  },
  {
   "cell_type": "code",
   "execution_count": 9,
   "metadata": {},
   "outputs": [],
   "source": [
    "from sklearn.ensemble import RandomForestClassifier\n",
    "from sklearn.naive_bayes import GaussianNB\n",
    "from sklearn.metrics import accuracy_score\n",
    "import numpy as np\n",
    "import pandas as pd\n",
    "import matplotlib.pyplot as plt\n",
    "from sklearn.model_selection import train_test_split\n",
    "training_labels = data[:,-1]\n",
    "data = data[:,:-2]"
   ]
  },
  {
   "cell_type": "code",
   "execution_count": 10,
   "metadata": {},
   "outputs": [],
   "source": [
    "Xtr, Xtest, ytr, ytest = train_test_split(data, training_labels, test_size = 0.5, stratify = training_labels)#, random_state = 42)\n",
    "train_acc_hist = []\n",
    "test_acc_hist = []\n",
    "n_esitmators = range(200,300)"
   ]
  },
  {
   "cell_type": "code",
   "execution_count": 11,
   "metadata": {},
   "outputs": [
    {
     "name": "stdout",
     "output_type": "stream",
     "text": [
      "Accuracy of 100 is 78.125000%\n",
      "CPU times: user 278 ms, sys: 60.8 ms, total: 339 ms\n",
      "Wall time: 372 ms\n"
     ]
    }
   ],
   "source": [
    "%%time\n",
    "#for n in range(1, 200):\n",
    "n=100\n",
    "clf = RandomForestClassifier(n_estimators=n, n_jobs = -1)#, random_state = 52)\n",
    "clf = clf.fit(Xtr, ytr)\n",
    "y_test_pred = clf.predict(Xtest)\n",
    "test_acc_hist.append(np.mean(ytest==y_test_pred))\n",
    "y_train_pred = clf.predict(Xtr)\n",
    "train_acc_hist.append(np.mean(ytr==y_train_pred))\n",
    "if n%10==0:\n",
    "    print(\"Accuracy of %d is %lf%%\"%(n, test_acc_hist[-1]*100))"
   ]
  },
  {
   "cell_type": "raw",
   "metadata": {},
   "source": [
    "plt.ylabel('Accuracy Score')\n",
    "plt.xlabel('n_estimators')\n",
    "plt.title('The training and testing accuracy with different numbers of estimators')\n",
    "plt.plot(n_esitmators, test_acc_hist, 'b', label = \"Testing Accuracy\")\n",
    "plt.plot(n_esitmators, train_acc_hist, 'r', label = \"Training Accuracy\")\n",
    "plt.legend()\n",
    "plt.show()"
   ]
  },
  {
   "cell_type": "raw",
   "metadata": {},
   "source": [
    "print(np.argmax(test_acc_hist))\n",
    "print(test_acc_hist[16])\n",
    "print(np.mean(test_acc_hist))"
   ]
  },
  {
   "cell_type": "raw",
   "metadata": {},
   "source": [
    "clf = RandomForestClassifier(n_estimators=17, n_jobs = -1, random_state = 52)\n",
    "clf = clf.fit(Xtr, ytr)\n",
    "y_test_pred = clf.predict(Xtest)\n",
    "print(np.sum(ytest==y_test_pred)/Xtest.shape[0])\n"
   ]
  },
  {
   "cell_type": "raw",
   "metadata": {},
   "source": []
  }
 ],
 "metadata": {
  "kernelspec": {
   "display_name": "Python 3",
   "language": "python",
   "name": "python3"
  },
  "language_info": {
   "codemirror_mode": {
    "name": "ipython",
    "version": 3
   },
   "file_extension": ".py",
   "mimetype": "text/x-python",
   "name": "python",
   "nbconvert_exporter": "python",
   "pygments_lexer": "ipython3",
   "version": "3.6.8"
  }
 },
 "nbformat": 4,
 "nbformat_minor": 2
}
